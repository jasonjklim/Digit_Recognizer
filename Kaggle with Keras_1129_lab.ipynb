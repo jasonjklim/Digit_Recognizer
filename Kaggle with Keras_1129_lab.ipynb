{
 "cells": [
  {
   "cell_type": "code",
   "execution_count": 28,
   "metadata": {},
   "outputs": [],
   "source": [
    "import pandas as pd\n",
    "from keras.models import Sequential\n",
    "from keras.layers import Dense, Input, Dropout, Conv2D, MaxPool2D, Flatten\n",
    "from keras.utils import to_categorical\n",
    "from sklearn.model_selection import train_test_split"
   ]
  },
  {
   "cell_type": "markdown",
   "metadata": {},
   "source": [
    "### Load training data\n",
    "\n",
    "Load `train.csv` from Kaggle into a pandas DataFrame."
   ]
  },
  {
   "cell_type": "code",
   "execution_count": 2,
   "metadata": {
    "collapsed": true
   },
   "outputs": [],
   "source": [
    "df = pd.read_csv('train.csv')"
   ]
  },
  {
   "cell_type": "code",
   "execution_count": 3,
   "metadata": {},
   "outputs": [
    {
     "data": {
      "text/html": [
       "<div>\n",
       "<style>\n",
       "    .dataframe thead tr:only-child th {\n",
       "        text-align: right;\n",
       "    }\n",
       "\n",
       "    .dataframe thead th {\n",
       "        text-align: left;\n",
       "    }\n",
       "\n",
       "    .dataframe tbody tr th {\n",
       "        vertical-align: top;\n",
       "    }\n",
       "</style>\n",
       "<table border=\"1\" class=\"dataframe\">\n",
       "  <thead>\n",
       "    <tr style=\"text-align: right;\">\n",
       "      <th></th>\n",
       "      <th>label</th>\n",
       "      <th>pixel0</th>\n",
       "      <th>pixel1</th>\n",
       "      <th>pixel2</th>\n",
       "      <th>pixel3</th>\n",
       "      <th>pixel4</th>\n",
       "      <th>pixel5</th>\n",
       "      <th>pixel6</th>\n",
       "      <th>pixel7</th>\n",
       "      <th>pixel8</th>\n",
       "      <th>...</th>\n",
       "      <th>pixel774</th>\n",
       "      <th>pixel775</th>\n",
       "      <th>pixel776</th>\n",
       "      <th>pixel777</th>\n",
       "      <th>pixel778</th>\n",
       "      <th>pixel779</th>\n",
       "      <th>pixel780</th>\n",
       "      <th>pixel781</th>\n",
       "      <th>pixel782</th>\n",
       "      <th>pixel783</th>\n",
       "    </tr>\n",
       "  </thead>\n",
       "  <tbody>\n",
       "    <tr>\n",
       "      <th>0</th>\n",
       "      <td>1</td>\n",
       "      <td>0</td>\n",
       "      <td>0</td>\n",
       "      <td>0</td>\n",
       "      <td>0</td>\n",
       "      <td>0</td>\n",
       "      <td>0</td>\n",
       "      <td>0</td>\n",
       "      <td>0</td>\n",
       "      <td>0</td>\n",
       "      <td>...</td>\n",
       "      <td>0</td>\n",
       "      <td>0</td>\n",
       "      <td>0</td>\n",
       "      <td>0</td>\n",
       "      <td>0</td>\n",
       "      <td>0</td>\n",
       "      <td>0</td>\n",
       "      <td>0</td>\n",
       "      <td>0</td>\n",
       "      <td>0</td>\n",
       "    </tr>\n",
       "    <tr>\n",
       "      <th>1</th>\n",
       "      <td>0</td>\n",
       "      <td>0</td>\n",
       "      <td>0</td>\n",
       "      <td>0</td>\n",
       "      <td>0</td>\n",
       "      <td>0</td>\n",
       "      <td>0</td>\n",
       "      <td>0</td>\n",
       "      <td>0</td>\n",
       "      <td>0</td>\n",
       "      <td>...</td>\n",
       "      <td>0</td>\n",
       "      <td>0</td>\n",
       "      <td>0</td>\n",
       "      <td>0</td>\n",
       "      <td>0</td>\n",
       "      <td>0</td>\n",
       "      <td>0</td>\n",
       "      <td>0</td>\n",
       "      <td>0</td>\n",
       "      <td>0</td>\n",
       "    </tr>\n",
       "    <tr>\n",
       "      <th>2</th>\n",
       "      <td>1</td>\n",
       "      <td>0</td>\n",
       "      <td>0</td>\n",
       "      <td>0</td>\n",
       "      <td>0</td>\n",
       "      <td>0</td>\n",
       "      <td>0</td>\n",
       "      <td>0</td>\n",
       "      <td>0</td>\n",
       "      <td>0</td>\n",
       "      <td>...</td>\n",
       "      <td>0</td>\n",
       "      <td>0</td>\n",
       "      <td>0</td>\n",
       "      <td>0</td>\n",
       "      <td>0</td>\n",
       "      <td>0</td>\n",
       "      <td>0</td>\n",
       "      <td>0</td>\n",
       "      <td>0</td>\n",
       "      <td>0</td>\n",
       "    </tr>\n",
       "    <tr>\n",
       "      <th>3</th>\n",
       "      <td>4</td>\n",
       "      <td>0</td>\n",
       "      <td>0</td>\n",
       "      <td>0</td>\n",
       "      <td>0</td>\n",
       "      <td>0</td>\n",
       "      <td>0</td>\n",
       "      <td>0</td>\n",
       "      <td>0</td>\n",
       "      <td>0</td>\n",
       "      <td>...</td>\n",
       "      <td>0</td>\n",
       "      <td>0</td>\n",
       "      <td>0</td>\n",
       "      <td>0</td>\n",
       "      <td>0</td>\n",
       "      <td>0</td>\n",
       "      <td>0</td>\n",
       "      <td>0</td>\n",
       "      <td>0</td>\n",
       "      <td>0</td>\n",
       "    </tr>\n",
       "    <tr>\n",
       "      <th>4</th>\n",
       "      <td>0</td>\n",
       "      <td>0</td>\n",
       "      <td>0</td>\n",
       "      <td>0</td>\n",
       "      <td>0</td>\n",
       "      <td>0</td>\n",
       "      <td>0</td>\n",
       "      <td>0</td>\n",
       "      <td>0</td>\n",
       "      <td>0</td>\n",
       "      <td>...</td>\n",
       "      <td>0</td>\n",
       "      <td>0</td>\n",
       "      <td>0</td>\n",
       "      <td>0</td>\n",
       "      <td>0</td>\n",
       "      <td>0</td>\n",
       "      <td>0</td>\n",
       "      <td>0</td>\n",
       "      <td>0</td>\n",
       "      <td>0</td>\n",
       "    </tr>\n",
       "  </tbody>\n",
       "</table>\n",
       "<p>5 rows × 785 columns</p>\n",
       "</div>"
      ],
      "text/plain": [
       "   label  pixel0  pixel1  pixel2  pixel3  pixel4  pixel5  pixel6  pixel7  \\\n",
       "0      1       0       0       0       0       0       0       0       0   \n",
       "1      0       0       0       0       0       0       0       0       0   \n",
       "2      1       0       0       0       0       0       0       0       0   \n",
       "3      4       0       0       0       0       0       0       0       0   \n",
       "4      0       0       0       0       0       0       0       0       0   \n",
       "\n",
       "   pixel8    ...     pixel774  pixel775  pixel776  pixel777  pixel778  \\\n",
       "0       0    ...            0         0         0         0         0   \n",
       "1       0    ...            0         0         0         0         0   \n",
       "2       0    ...            0         0         0         0         0   \n",
       "3       0    ...            0         0         0         0         0   \n",
       "4       0    ...            0         0         0         0         0   \n",
       "\n",
       "   pixel779  pixel780  pixel781  pixel782  pixel783  \n",
       "0         0         0         0         0         0  \n",
       "1         0         0         0         0         0  \n",
       "2         0         0         0         0         0  \n",
       "3         0         0         0         0         0  \n",
       "4         0         0         0         0         0  \n",
       "\n",
       "[5 rows x 785 columns]"
      ]
     },
     "execution_count": 3,
     "metadata": {},
     "output_type": "execute_result"
    }
   ],
   "source": [
    "df.head()"
   ]
  },
  {
   "cell_type": "markdown",
   "metadata": {},
   "source": [
    "### Set up X and y\n",
    "\n",
    "NOTE: Keras requires a `numpy` matrix, it doesn't work with `pandas`."
   ]
  },
  {
   "cell_type": "code",
   "execution_count": 4,
   "metadata": {
    "collapsed": true
   },
   "outputs": [],
   "source": [
    "y= df['label']\n",
    "X= df.drop(['label'], axis=1).values"
   ]
  },
  {
   "cell_type": "code",
   "execution_count": 5,
   "metadata": {},
   "outputs": [
    {
     "data": {
      "text/plain": [
       "numpy.ndarray"
      ]
     },
     "execution_count": 5,
     "metadata": {},
     "output_type": "execute_result"
    }
   ],
   "source": [
    "type(X)"
   ]
  },
  {
   "cell_type": "markdown",
   "metadata": {},
   "source": [
    "### Preprocessing\n",
    "\n",
    "1. When dealing with image data, you need to normalize your `X` by dividing each value by the max number of pixels (255).\n",
    "2. Since this is a multiclass classification problem, keras needs `y` to be a one-hot encoded matrix"
   ]
  },
  {
   "cell_type": "code",
   "execution_count": 6,
   "metadata": {
    "collapsed": true
   },
   "outputs": [],
   "source": [
    "y = to_categorical(y)"
   ]
  },
  {
   "cell_type": "code",
   "execution_count": 7,
   "metadata": {
    "collapsed": true
   },
   "outputs": [],
   "source": [
    "X = X/255."
   ]
  },
  {
   "cell_type": "code",
   "execution_count": 8,
   "metadata": {},
   "outputs": [
    {
     "data": {
      "text/plain": [
       "array([[ 0.,  0.,  0., ...,  0.,  0.,  0.],\n",
       "       [ 0.,  0.,  0., ...,  0.,  0.,  0.],\n",
       "       [ 0.,  0.,  0., ...,  0.,  0.,  0.],\n",
       "       ..., \n",
       "       [ 0.,  0.,  0., ...,  0.,  0.,  0.],\n",
       "       [ 0.,  0.,  0., ...,  0.,  0.,  0.],\n",
       "       [ 0.,  0.,  0., ...,  0.,  0.,  0.]])"
      ]
     },
     "execution_count": 8,
     "metadata": {},
     "output_type": "execute_result"
    }
   ],
   "source": [
    "X"
   ]
  },
  {
   "cell_type": "markdown",
   "metadata": {},
   "source": [
    "### Train/Test Split\n",
    "\n",
    "We want to create a validation set that the model will never see to approximate how it's going to do with Kaggle's `test.csv`. Use `sklearn`'s `train_test_split` to do this."
   ]
  },
  {
   "cell_type": "code",
   "execution_count": 9,
   "metadata": {
    "collapsed": true
   },
   "outputs": [],
   "source": [
    "X_train, X_test, y_train, y_test = train_test_split(X, y)"
   ]
  },
  {
   "cell_type": "code",
   "execution_count": 10,
   "metadata": {},
   "outputs": [
    {
     "name": "stdout",
     "output_type": "stream",
     "text": [
      "(31500, 784) (10500, 784) (31500, 10) (10500, 10)\n"
     ]
    }
   ],
   "source": [
    "print(X_train.shape, X_test.shape, y_train.shape, y_test.shape)"
   ]
  },
  {
   "cell_type": "markdown",
   "metadata": {},
   "source": [
    "### Create your neural network\n",
    "\n",
    "Create a neural network using the `Dense` and `Dropout` layers from `keras`. Your activation function for the final output layer needs to be `softmax` to accomidate the ten different classes."
   ]
  },
  {
   "cell_type": "code",
   "execution_count": 11,
   "metadata": {
    "collapsed": true
   },
   "outputs": [],
   "source": [
    "model = Sequential()\n",
    "model.add(Dense(X_train.shape[1], input_dim=X_train.shape[1], activation='relu'))\n",
    "model.add(Dropout(.5))\n",
    "model.add(Dense(100, input_dim=X_train.shape[1], activation='relu'))\n",
    "model.add(Dense(y.shape[1], activation='softmax'))\n",
    "\n"
   ]
  },
  {
   "cell_type": "markdown",
   "metadata": {},
   "source": [
    "### Compile your model\n",
    "\n",
    "Since this is a multiclass classification problem, your loss function is `categorical_crossentropy`."
   ]
  },
  {
   "cell_type": "code",
   "execution_count": 12,
   "metadata": {
    "collapsed": true
   },
   "outputs": [],
   "source": [
    "model.compile(loss='categorical_crossentropy', optimizer='adam', metrics=['accuracy'])"
   ]
  },
  {
   "cell_type": "markdown",
   "metadata": {},
   "source": [
    "### Fit the model\n",
    "\n",
    "Use your X_test, y_test from the `train_test_split` step for the `validation_data` parameter."
   ]
  },
  {
   "cell_type": "code",
   "execution_count": 13,
   "metadata": {},
   "outputs": [
    {
     "name": "stdout",
     "output_type": "stream",
     "text": [
      "Train on 31500 samples, validate on 10500 samples\n",
      "Epoch 1/10\n",
      "31500/31500 [==============================] - 6s 197us/step - loss: 0.3210 - acc: 0.9023 - val_loss: 0.1459 - val_acc: 0.9565\n",
      "Epoch 2/10\n",
      "31500/31500 [==============================] - 9s 301us/step - loss: 0.1615 - acc: 0.9507 - val_loss: 0.1138 - val_acc: 0.9642\n",
      "Epoch 3/10\n",
      "31500/31500 [==============================] - 11s 342us/step - loss: 0.1331 - acc: 0.9580 - val_loss: 0.0875 - val_acc: 0.9726\n",
      "Epoch 4/10\n",
      "31500/31500 [==============================] - 11s 358us/step - loss: 0.1065 - acc: 0.9666 - val_loss: 0.0939 - val_acc: 0.9711\n",
      "Epoch 5/10\n",
      "31500/31500 [==============================] - 12s 366us/step - loss: 0.0923 - acc: 0.9697 - val_loss: 0.0879 - val_acc: 0.9707\n",
      "Epoch 6/10\n",
      "31500/31500 [==============================] - 12s 379us/step - loss: 0.0839 - acc: 0.9736 - val_loss: 0.0805 - val_acc: 0.9757\n",
      "Epoch 7/10\n",
      "31500/31500 [==============================] - 12s 389us/step - loss: 0.0787 - acc: 0.9730 - val_loss: 0.0835 - val_acc: 0.9759\n",
      "Epoch 8/10\n",
      "31500/31500 [==============================] - 13s 398us/step - loss: 0.0714 - acc: 0.9764 - val_loss: 0.0733 - val_acc: 0.9796\n",
      "Epoch 9/10\n",
      "31500/31500 [==============================] - 13s 403us/step - loss: 0.0618 - acc: 0.9804 - val_loss: 0.0838 - val_acc: 0.9770\n",
      "Epoch 10/10\n",
      "31500/31500 [==============================] - 13s 408us/step - loss: 0.0617 - acc: 0.9804 - val_loss: 0.0803 - val_acc: 0.9786\n"
     ]
    },
    {
     "data": {
      "text/plain": [
       "<keras.callbacks.History at 0x11ba7ebe0>"
      ]
     },
     "execution_count": 13,
     "metadata": {},
     "output_type": "execute_result"
    }
   ],
   "source": [
    "model.fit(X_train, y_train, validation_data=(X_test, y_test), epochs=10)"
   ]
  },
  {
   "cell_type": "markdown",
   "metadata": {},
   "source": [
    "### Load in Kaggle's `test.csv`\n",
    "\n",
    "Be sure to do the **same** preprocessing you did for your training `X`."
   ]
  },
  {
   "cell_type": "code",
   "execution_count": 14,
   "metadata": {
    "collapsed": true
   },
   "outputs": [],
   "source": [
    "test = pd.read_csv('test.csv')\n",
    "test = test.values/255."
   ]
  },
  {
   "cell_type": "markdown",
   "metadata": {},
   "source": [
    "### Create your predictions\n",
    "\n",
    "Use `predict_classes` to get the actual numerical values (0-9)."
   ]
  },
  {
   "cell_type": "code",
   "execution_count": 15,
   "metadata": {},
   "outputs": [
    {
     "name": "stdout",
     "output_type": "stream",
     "text": [
      "28000/28000 [==============================] - 1s 43us/step\n"
     ]
    }
   ],
   "source": [
    "pred = model.predict_classes(test)"
   ]
  },
  {
   "cell_type": "code",
   "execution_count": 16,
   "metadata": {},
   "outputs": [
    {
     "data": {
      "text/plain": [
       "array([2, 0, 9, ..., 3, 9, 2])"
      ]
     },
     "execution_count": 16,
     "metadata": {},
     "output_type": "execute_result"
    }
   ],
   "source": [
    "pred"
   ]
  },
  {
   "cell_type": "markdown",
   "metadata": {},
   "source": [
    "### Prepare your submission\n",
    "\n",
    "1. Add your predictions to a column called `Label`\n",
    "2. You'll need to manually create the `ImageId` column, which is just a list of 1..[NUMBER OF TEST SAMPLES]"
   ]
  },
  {
   "cell_type": "code",
   "execution_count": 17,
   "metadata": {
    "collapsed": true
   },
   "outputs": [],
   "source": [
    "submission = pd.DataFrame()\n",
    "\n",
    "\n",
    "submission['ImageId'] = range(1,test.shape[0] + 1)\n",
    "\n",
    "submission['Label']= pred"
   ]
  },
  {
   "cell_type": "code",
   "execution_count": 18,
   "metadata": {},
   "outputs": [
    {
     "data": {
      "text/html": [
       "<div>\n",
       "<style>\n",
       "    .dataframe thead tr:only-child th {\n",
       "        text-align: right;\n",
       "    }\n",
       "\n",
       "    .dataframe thead th {\n",
       "        text-align: left;\n",
       "    }\n",
       "\n",
       "    .dataframe tbody tr th {\n",
       "        vertical-align: top;\n",
       "    }\n",
       "</style>\n",
       "<table border=\"1\" class=\"dataframe\">\n",
       "  <thead>\n",
       "    <tr style=\"text-align: right;\">\n",
       "      <th></th>\n",
       "      <th>ImageId</th>\n",
       "      <th>Label</th>\n",
       "    </tr>\n",
       "  </thead>\n",
       "  <tbody>\n",
       "    <tr>\n",
       "      <th>0</th>\n",
       "      <td>1</td>\n",
       "      <td>2</td>\n",
       "    </tr>\n",
       "    <tr>\n",
       "      <th>1</th>\n",
       "      <td>2</td>\n",
       "      <td>0</td>\n",
       "    </tr>\n",
       "    <tr>\n",
       "      <th>2</th>\n",
       "      <td>3</td>\n",
       "      <td>9</td>\n",
       "    </tr>\n",
       "    <tr>\n",
       "      <th>3</th>\n",
       "      <td>4</td>\n",
       "      <td>9</td>\n",
       "    </tr>\n",
       "    <tr>\n",
       "      <th>4</th>\n",
       "      <td>5</td>\n",
       "      <td>3</td>\n",
       "    </tr>\n",
       "  </tbody>\n",
       "</table>\n",
       "</div>"
      ],
      "text/plain": [
       "   ImageId  Label\n",
       "0        1      2\n",
       "1        2      0\n",
       "2        3      9\n",
       "3        4      9\n",
       "4        5      3"
      ]
     },
     "execution_count": 18,
     "metadata": {},
     "output_type": "execute_result"
    }
   ],
   "source": [
    "submission.head()"
   ]
  },
  {
   "cell_type": "markdown",
   "metadata": {},
   "source": [
    "### Create your submission csv\n",
    "\n",
    "Remember to set `index=False`!"
   ]
  },
  {
   "cell_type": "code",
   "execution_count": 19,
   "metadata": {
    "collapsed": true
   },
   "outputs": [],
   "source": [
    "submission.to_csv('submission.csv', index=False)"
   ]
  },
  {
   "cell_type": "code",
   "execution_count": 20,
   "metadata": {
    "collapsed": true
   },
   "outputs": [],
   "source": [
    "# First score is 97.5%"
   ]
  },
  {
   "cell_type": "markdown",
   "metadata": {},
   "source": [
    "# Third submission"
   ]
  },
  {
   "cell_type": "code",
   "execution_count": 21,
   "metadata": {},
   "outputs": [
    {
     "name": "stdout",
     "output_type": "stream",
     "text": [
      "Train on 31500 samples, validate on 10500 samples\n",
      "Epoch 1/50\n",
      "31500/31500 [==============================] - 3s 106us/step - loss: 0.2656 - acc: 0.9205 - val_loss: 0.1187 - val_acc: 0.9646\n",
      "Epoch 2/50\n",
      "31500/31500 [==============================] - 4s 112us/step - loss: 0.1009 - acc: 0.9690 - val_loss: 0.1068 - val_acc: 0.9649\n",
      "Epoch 3/50\n",
      "31500/31500 [==============================] - 4s 133us/step - loss: 0.0618 - acc: 0.9810 - val_loss: 0.1208 - val_acc: 0.9645\n",
      "Epoch 4/50\n",
      "31500/31500 [==============================] - 4s 135us/step - loss: 0.0445 - acc: 0.9852 - val_loss: 0.0899 - val_acc: 0.9733\n",
      "Epoch 5/50\n",
      "31500/31500 [==============================] - 5s 145us/step - loss: 0.0342 - acc: 0.9886 - val_loss: 0.0944 - val_acc: 0.9722\n",
      "Epoch 6/50\n",
      "31500/31500 [==============================] - 5s 148us/step - loss: 0.0307 - acc: 0.9903 - val_loss: 0.1173 - val_acc: 0.9674\n",
      "Epoch 7/50\n",
      "31500/31500 [==============================] - 5s 157us/step - loss: 0.0255 - acc: 0.9913 - val_loss: 0.0923 - val_acc: 0.9760\n",
      "Epoch 8/50\n",
      "31500/31500 [==============================] - 5s 159us/step - loss: 0.0216 - acc: 0.9928 - val_loss: 0.1013 - val_acc: 0.9764\n",
      "Epoch 9/50\n",
      "31500/31500 [==============================] - 5s 168us/step - loss: 0.0207 - acc: 0.9932 - val_loss: 0.0932 - val_acc: 0.9755\n",
      "Epoch 10/50\n",
      "31500/31500 [==============================] - 5s 167us/step - loss: 0.0113 - acc: 0.9966 - val_loss: 0.1046 - val_acc: 0.9770\n",
      "Epoch 11/50\n",
      "31500/31500 [==============================] - 6s 177us/step - loss: 0.0231 - acc: 0.9925 - val_loss: 0.1138 - val_acc: 0.9733\n",
      "Epoch 12/50\n",
      "31500/31500 [==============================] - 5s 172us/step - loss: 0.0184 - acc: 0.9946 - val_loss: 0.1010 - val_acc: 0.9763\n",
      "Epoch 13/50\n",
      "31500/31500 [==============================] - 6s 183us/step - loss: 0.0107 - acc: 0.9969 - val_loss: 0.0926 - val_acc: 0.9772\n",
      "Epoch 14/50\n",
      "31500/31500 [==============================] - 6s 186us/step - loss: 0.0103 - acc: 0.9969 - val_loss: 0.1036 - val_acc: 0.9745\n",
      "Epoch 15/50\n",
      "31500/31500 [==============================] - 6s 195us/step - loss: 0.0164 - acc: 0.9952 - val_loss: 0.1089 - val_acc: 0.9736\n",
      "Epoch 16/50\n",
      "31500/31500 [==============================] - 6s 186us/step - loss: 0.0117 - acc: 0.9962 - val_loss: 0.1093 - val_acc: 0.9754\n",
      "Epoch 17/50\n",
      "31500/31500 [==============================] - 6s 192us/step - loss: 0.0146 - acc: 0.9955 - val_loss: 0.1135 - val_acc: 0.9749\n",
      "Epoch 18/50\n",
      "31500/31500 [==============================] - 6s 195us/step - loss: 0.0117 - acc: 0.9964 - val_loss: 0.1067 - val_acc: 0.9764\n",
      "Epoch 19/50\n",
      "31500/31500 [==============================] - 6s 202us/step - loss: 0.0080 - acc: 0.9973 - val_loss: 0.0947 - val_acc: 0.9782\n",
      "Epoch 20/50\n",
      "31500/31500 [==============================] - 6s 200us/step - loss: 0.0060 - acc: 0.9983 - val_loss: 0.1215 - val_acc: 0.9762\n",
      "Epoch 21/50\n",
      "31500/31500 [==============================] - 7s 209us/step - loss: 0.0140 - acc: 0.9957 - val_loss: 0.1028 - val_acc: 0.9781\n",
      "Epoch 22/50\n",
      "31500/31500 [==============================] - 7s 207us/step - loss: 0.0080 - acc: 0.9975 - val_loss: 0.1117 - val_acc: 0.9780\n",
      "Epoch 23/50\n",
      "31500/31500 [==============================] - 7s 208us/step - loss: 0.0083 - acc: 0.9976 - val_loss: 0.1132 - val_acc: 0.9767\n",
      "Epoch 24/50\n",
      "31500/31500 [==============================] - 7s 214us/step - loss: 0.0124 - acc: 0.9961 - val_loss: 0.0895 - val_acc: 0.9806\n",
      "Epoch 25/50\n",
      "31500/31500 [==============================] - 7s 216us/step - loss: 0.0041 - acc: 0.9987 - val_loss: 0.1167 - val_acc: 0.9797\n",
      "Epoch 26/50\n",
      "31500/31500 [==============================] - 7s 229us/step - loss: 0.0089 - acc: 0.9974 - val_loss: 0.1219 - val_acc: 0.9755\n",
      "Epoch 27/50\n",
      "31500/31500 [==============================] - 8s 243us/step - loss: 0.0067 - acc: 0.9979 - val_loss: 0.1248 - val_acc: 0.9774\n",
      "Epoch 28/50\n",
      "31500/31500 [==============================] - 8s 253us/step - loss: 0.0085 - acc: 0.9973 - val_loss: 0.1279 - val_acc: 0.9786\n",
      "Epoch 29/50\n",
      "31500/31500 [==============================] - 8s 258us/step - loss: 0.0084 - acc: 0.9974 - val_loss: 0.1330 - val_acc: 0.9748\n",
      "Epoch 30/50\n",
      "31500/31500 [==============================] - 8s 250us/step - loss: 0.0091 - acc: 0.9976 - val_loss: 0.1264 - val_acc: 0.9774\n",
      "Epoch 31/50\n",
      "31500/31500 [==============================] - 8s 259us/step - loss: 0.0077 - acc: 0.9979 - val_loss: 0.1195 - val_acc: 0.9791\n",
      "Epoch 32/50\n",
      "31500/31500 [==============================] - 8s 253us/step - loss: 0.0058 - acc: 0.9985 - val_loss: 0.1283 - val_acc: 0.9767\n",
      "Epoch 33/50\n",
      "31500/31500 [==============================] - 8s 260us/step - loss: 0.0034 - acc: 0.9990 - val_loss: 0.1260 - val_acc: 0.9786\n",
      "Epoch 34/50\n",
      "31500/31500 [==============================] - 8s 261us/step - loss: 0.0024 - acc: 0.9992 - val_loss: 0.1216 - val_acc: 0.9791\n",
      "Epoch 35/50\n",
      "31500/31500 [==============================] - 8s 265us/step - loss: 0.0066 - acc: 0.9984 - val_loss: 0.1646 - val_acc: 0.9740\n",
      "Epoch 36/50\n",
      "31500/31500 [==============================] - 8s 250us/step - loss: 0.0126 - acc: 0.9961 - val_loss: 0.1274 - val_acc: 0.9772\n",
      "Epoch 37/50\n",
      "31500/31500 [==============================] - 8s 252us/step - loss: 0.0054 - acc: 0.9985 - val_loss: 0.1053 - val_acc: 0.9804\n",
      "Epoch 38/50\n",
      "31500/31500 [==============================] - 9s 278us/step - loss: 0.0041 - acc: 0.9988 - val_loss: 0.1188 - val_acc: 0.9785\n",
      "Epoch 39/50\n",
      "31500/31500 [==============================] - 8s 268us/step - loss: 0.0039 - acc: 0.9988 - val_loss: 0.1182 - val_acc: 0.9803\n",
      "Epoch 40/50\n",
      "31500/31500 [==============================] - 9s 288us/step - loss: 0.0014 - acc: 0.9996 - val_loss: 0.1134 - val_acc: 0.9824\n",
      "Epoch 41/50\n",
      "31500/31500 [==============================] - 9s 273us/step - loss: 0.0083 - acc: 0.9980 - val_loss: 0.1371 - val_acc: 0.9726\n",
      "Epoch 42/50\n",
      "31500/31500 [==============================] - 8s 264us/step - loss: 0.0093 - acc: 0.9975 - val_loss: 0.1171 - val_acc: 0.9779\n",
      "Epoch 43/50\n",
      "31500/31500 [==============================] - 8s 269us/step - loss: 0.0069 - acc: 0.9980 - val_loss: 0.1087 - val_acc: 0.9799\n",
      "Epoch 44/50\n",
      "31500/31500 [==============================] - 9s 286us/step - loss: 0.0014 - acc: 0.9997 - val_loss: 0.1113 - val_acc: 0.9819\n",
      "Epoch 45/50\n",
      "31500/31500 [==============================] - 9s 287us/step - loss: 7.5493e-05 - acc: 1.0000 - val_loss: 0.1086 - val_acc: 0.9828\n",
      "Epoch 46/50\n",
      "31500/31500 [==============================] - 9s 300us/step - loss: 1.7404e-05 - acc: 1.0000 - val_loss: 0.1084 - val_acc: 0.9832\n",
      "Epoch 47/50\n",
      "31500/31500 [==============================] - 10s 314us/step - loss: 1.1288e-05 - acc: 1.0000 - val_loss: 0.1092 - val_acc: 0.9830\n",
      "Epoch 48/50\n",
      "31500/31500 [==============================] - 9s 294us/step - loss: 8.3013e-06 - acc: 1.0000 - val_loss: 0.1102 - val_acc: 0.9833\n",
      "Epoch 49/50\n",
      "31500/31500 [==============================] - 9s 298us/step - loss: 6.2202e-06 - acc: 1.0000 - val_loss: 0.1114 - val_acc: 0.9831\n",
      "Epoch 50/50\n",
      "31500/31500 [==============================] - 9s 295us/step - loss: 4.6289e-06 - acc: 1.0000 - val_loss: 0.1131 - val_acc: 0.9831\n"
     ]
    },
    {
     "data": {
      "text/plain": [
       "<keras.callbacks.History at 0x12a88a1d0>"
      ]
     },
     "execution_count": 21,
     "metadata": {},
     "output_type": "execute_result"
    }
   ],
   "source": [
    "model = Sequential()\n",
    "model.add(Dense(X_train.shape[1], input_dim=X_train.shape[1], activation='relu'))\n",
    "model.add(Dense(512, activation='relu'))\n",
    "model.add(Dense(128, activation='relu'))\n",
    "model.add(Dense(y.shape[1], activation='softmax'))\n",
    "\n",
    "\n",
    "model.compile(loss='categorical_crossentropy', optimizer='adam', metrics=['accuracy'])\n",
    "\n",
    "model.fit(X_train, y_train, validation_data=(X_test, y_test), epochs=50, batch_size=100)"
   ]
  },
  {
   "cell_type": "code",
   "execution_count": 22,
   "metadata": {},
   "outputs": [
    {
     "name": "stdout",
     "output_type": "stream",
     "text": [
      "28000/28000 [==============================] - 1s 35us/step\n"
     ]
    }
   ],
   "source": [
    "test = pd.read_csv('test.csv')\n",
    "test = test.values/255.\n",
    "\n",
    "pred = model.predict_classes(test)"
   ]
  },
  {
   "cell_type": "code",
   "execution_count": 23,
   "metadata": {
    "collapsed": true
   },
   "outputs": [],
   "source": [
    "submission = pd.DataFrame()\n",
    "\n",
    "\n",
    "submission['ImageId'] = range(1,test.shape[0] + 1)\n",
    "\n",
    "submission['Label']= pred"
   ]
  },
  {
   "cell_type": "code",
   "execution_count": 24,
   "metadata": {
    "collapsed": true
   },
   "outputs": [],
   "source": [
    "submission.to_csv('submission1128.csv', index=False)"
   ]
  },
  {
   "cell_type": "code",
   "execution_count": null,
   "metadata": {
    "collapsed": true
   },
   "outputs": [],
   "source": [
    "# It is 98 %"
   ]
  },
  {
   "cell_type": "markdown",
   "metadata": {},
   "source": [
    "# MNIST 1129"
   ]
  },
  {
   "cell_type": "markdown",
   "metadata": {},
   "source": [
    "## First submission"
   ]
  },
  {
   "cell_type": "code",
   "execution_count": 25,
   "metadata": {
    "collapsed": true
   },
   "outputs": [],
   "source": [
    "df = pd.read_csv(\"train.csv\")"
   ]
  },
  {
   "cell_type": "code",
   "execution_count": 26,
   "metadata": {
    "collapsed": true
   },
   "outputs": [],
   "source": [
    "y = to_categorical(df['label'].values) # to have list\n",
    "\n",
    "X_train, X_test, y_train, y_test = train_test_split(df[df.columns[1:]].values, y)\n",
    "\n",
    "X_train = X_train/255.\n",
    "X_test = X_test/255.\n",
    "\n",
    "X_train = X_train.reshape(X_train.shape[0], 28,28,1)\n",
    "X_test = X_test.reshape(X_test.shape[0], 28,28,1)"
   ]
  },
  {
   "cell_type": "code",
   "execution_count": 29,
   "metadata": {},
   "outputs": [
    {
     "name": "stdout",
     "output_type": "stream",
     "text": [
      "Train on 31500 samples, validate on 10500 samples\n",
      "Epoch 1/40\n",
      "31500/31500 [==============================] - 16s 511us/step - loss: 0.3378 - acc: 0.8937 - val_loss: 0.1185 - val_acc: 0.9632\n",
      "Epoch 2/40\n",
      "31500/31500 [==============================] - 17s 529us/step - loss: 0.0934 - acc: 0.9717 - val_loss: 0.0966 - val_acc: 0.9700\n",
      "Epoch 3/40\n",
      "31500/31500 [==============================] - 16s 514us/step - loss: 0.0627 - acc: 0.9805 - val_loss: 0.0665 - val_acc: 0.9813\n",
      "Epoch 4/40\n",
      "31500/31500 [==============================] - 16s 509us/step - loss: 0.0512 - acc: 0.9843 - val_loss: 0.0506 - val_acc: 0.9839\n",
      "Epoch 5/40\n",
      "31500/31500 [==============================] - 17s 528us/step - loss: 0.0433 - acc: 0.9866 - val_loss: 0.0563 - val_acc: 0.9820\n",
      "Epoch 6/40\n",
      "31500/31500 [==============================] - 17s 536us/step - loss: 0.0343 - acc: 0.9887 - val_loss: 0.0469 - val_acc: 0.9871\n",
      "Epoch 7/40\n",
      "31500/31500 [==============================] - 16s 504us/step - loss: 0.0278 - acc: 0.9911 - val_loss: 0.0428 - val_acc: 0.9872\n",
      "Epoch 8/40\n",
      "31500/31500 [==============================] - 16s 516us/step - loss: 0.0248 - acc: 0.9920 - val_loss: 0.0453 - val_acc: 0.9888\n",
      "Epoch 9/40\n",
      "31500/31500 [==============================] - 16s 505us/step - loss: 0.0209 - acc: 0.9933 - val_loss: 0.0553 - val_acc: 0.9849\n",
      "Epoch 10/40\n",
      "31500/31500 [==============================] - 16s 509us/step - loss: 0.0183 - acc: 0.9941 - val_loss: 0.0646 - val_acc: 0.9853\n",
      "Epoch 11/40\n",
      "31500/31500 [==============================] - 16s 503us/step - loss: 0.0171 - acc: 0.9946 - val_loss: 0.0560 - val_acc: 0.9871\n",
      "Epoch 12/40\n",
      "31500/31500 [==============================] - 16s 508us/step - loss: 0.0152 - acc: 0.9955 - val_loss: 0.0715 - val_acc: 0.9841\n",
      "Epoch 13/40\n",
      "31500/31500 [==============================] - 16s 519us/step - loss: 0.0128 - acc: 0.9959 - val_loss: 0.0612 - val_acc: 0.9851\n",
      "Epoch 14/40\n",
      "31500/31500 [==============================] - 17s 540us/step - loss: 0.0123 - acc: 0.9959 - val_loss: 0.0632 - val_acc: 0.9857\n",
      "Epoch 15/40\n",
      "31500/31500 [==============================] - 17s 525us/step - loss: 0.0122 - acc: 0.9957 - val_loss: 0.0571 - val_acc: 0.9879\n",
      "Epoch 16/40\n",
      "31500/31500 [==============================] - 16s 517us/step - loss: 0.0090 - acc: 0.9967 - val_loss: 0.0701 - val_acc: 0.9866\n",
      "Epoch 17/40\n",
      "31500/31500 [==============================] - 16s 521us/step - loss: 0.0105 - acc: 0.9964 - val_loss: 0.0622 - val_acc: 0.9883\n",
      "Epoch 18/40\n",
      "31500/31500 [==============================] - 16s 518us/step - loss: 0.0084 - acc: 0.9973 - val_loss: 0.0753 - val_acc: 0.9859\n",
      "Epoch 19/40\n",
      "31500/31500 [==============================] - 17s 534us/step - loss: 0.0101 - acc: 0.9965 - val_loss: 0.0679 - val_acc: 0.9870\n",
      "Epoch 20/40\n",
      "31500/31500 [==============================] - 17s 526us/step - loss: 0.0092 - acc: 0.9973 - val_loss: 0.0672 - val_acc: 0.9875\n",
      "Epoch 21/40\n",
      "31500/31500 [==============================] - 16s 513us/step - loss: 0.0052 - acc: 0.9988 - val_loss: 0.0902 - val_acc: 0.9833\n",
      "Epoch 22/40\n",
      "31500/31500 [==============================] - 16s 494us/step - loss: 0.0089 - acc: 0.9971 - val_loss: 0.0712 - val_acc: 0.9882\n",
      "Epoch 23/40\n",
      "31500/31500 [==============================] - 16s 497us/step - loss: 0.0074 - acc: 0.9974 - val_loss: 0.0736 - val_acc: 0.9866\n",
      "Epoch 24/40\n",
      "31500/31500 [==============================] - 16s 497us/step - loss: 0.0095 - acc: 0.9971 - val_loss: 0.0706 - val_acc: 0.9874\n",
      "Epoch 25/40\n",
      "31500/31500 [==============================] - 16s 495us/step - loss: 0.0059 - acc: 0.9980 - val_loss: 0.0679 - val_acc: 0.9866\n",
      "Epoch 26/40\n",
      "31500/31500 [==============================] - 15s 492us/step - loss: 0.0065 - acc: 0.9982 - val_loss: 0.0801 - val_acc: 0.9855\n",
      "Epoch 27/40\n",
      "31500/31500 [==============================] - 16s 496us/step - loss: 0.0042 - acc: 0.9989 - val_loss: 0.0984 - val_acc: 0.9843\n",
      "Epoch 28/40\n",
      "31500/31500 [==============================] - 16s 493us/step - loss: 0.0101 - acc: 0.9969 - val_loss: 0.0894 - val_acc: 0.9850\n",
      "Epoch 29/40\n",
      "31500/31500 [==============================] - 16s 500us/step - loss: 0.0066 - acc: 0.9977 - val_loss: 0.0715 - val_acc: 0.9887\n",
      "Epoch 30/40\n",
      "31500/31500 [==============================] - 17s 541us/step - loss: 0.0032 - acc: 0.9991 - val_loss: 0.0788 - val_acc: 0.9876\n",
      "Epoch 31/40\n",
      "31500/31500 [==============================] - 16s 509us/step - loss: 0.0102 - acc: 0.9972 - val_loss: 0.0758 - val_acc: 0.9874\n",
      "Epoch 32/40\n",
      "31500/31500 [==============================] - 16s 507us/step - loss: 0.0053 - acc: 0.9984 - val_loss: 0.0824 - val_acc: 0.9865\n",
      "Epoch 33/40\n",
      "31500/31500 [==============================] - 17s 529us/step - loss: 0.0066 - acc: 0.9983 - val_loss: 0.0780 - val_acc: 0.9869\n",
      "Epoch 34/40\n",
      "31500/31500 [==============================] - 17s 555us/step - loss: 0.0048 - acc: 0.9985 - val_loss: 0.0695 - val_acc: 0.9883\n",
      "Epoch 35/40\n",
      "31500/31500 [==============================] - 16s 510us/step - loss: 0.0045 - acc: 0.9990 - val_loss: 0.0858 - val_acc: 0.9879\n",
      "Epoch 36/40\n",
      "31500/31500 [==============================] - 16s 513us/step - loss: 0.0044 - acc: 0.9986 - val_loss: 0.0872 - val_acc: 0.9861\n",
      "Epoch 37/40\n",
      "31500/31500 [==============================] - 17s 542us/step - loss: 0.0105 - acc: 0.9969 - val_loss: 0.0962 - val_acc: 0.9839\n",
      "Epoch 38/40\n",
      "31500/31500 [==============================] - 17s 556us/step - loss: 0.0035 - acc: 0.9989 - val_loss: 0.0854 - val_acc: 0.9882\n",
      "Epoch 39/40\n",
      "31500/31500 [==============================] - 17s 532us/step - loss: 0.0047 - acc: 0.9988 - val_loss: 0.0846 - val_acc: 0.9854\n",
      "Epoch 40/40\n",
      "31500/31500 [==============================] - 16s 515us/step - loss: 0.0081 - acc: 0.9977 - val_loss: 0.0741 - val_acc: 0.9882\n"
     ]
    },
    {
     "data": {
      "text/plain": [
       "<keras.callbacks.History at 0x12af6d908>"
      ]
     },
     "execution_count": 29,
     "metadata": {},
     "output_type": "execute_result"
    }
   ],
   "source": [
    "model = Sequential()\n",
    "model.add(Conv2D(15, kernel_size=(5,5), input_shape=(28,28,1), activation='relu'))\n",
    "model.add(MaxPool2D(2,2))\n",
    "model.add(Conv2D(30, kernel_size=(4,4), activation='relu'))\n",
    "model.add(MaxPool2D(2,2))\n",
    "model.add(Conv2D(45, kernel_size=(3,3), activation='relu'))\n",
    "model.add(MaxPool2D(2,2))\n",
    "model.add(Flatten())\n",
    "model.add(Dense(50, activation='relu'))\n",
    "model.add(Dense(10, activation='softmax'))\n",
    "\n",
    "model.compile(optimizer='adam', loss='categorical_crossentropy', metrics=['accuracy'])\n",
    "\n",
    "model.fit(X_train, y_train, validation_data=(X_test, y_test), epochs=40)"
   ]
  },
  {
   "cell_type": "code",
   "execution_count": 30,
   "metadata": {},
   "outputs": [
    {
     "name": "stdout",
     "output_type": "stream",
     "text": [
      "28000/28000 [==============================] - 4s 151us/step\n"
     ]
    }
   ],
   "source": [
    "test = pd.read_csv('test.csv')\n",
    "test = test.values/255.\n",
    "test = test.reshape(test.shape[0], 28,28,1)\n",
    "\n",
    "pred = model.predict_classes(test)"
   ]
  },
  {
   "cell_type": "code",
   "execution_count": 31,
   "metadata": {
    "collapsed": true
   },
   "outputs": [],
   "source": [
    "submission = pd.DataFrame()\n",
    "\n",
    "\n",
    "submission['ImageId'] = range(1,test.shape[0] + 1)\n",
    "\n",
    "submission['Label']= pred\n",
    "\n",
    "submission.to_csv('submission1.csv', index=False)"
   ]
  },
  {
   "cell_type": "code",
   "execution_count": 32,
   "metadata": {
    "collapsed": true
   },
   "outputs": [],
   "source": [
    "# It's 0.98371"
   ]
  },
  {
   "cell_type": "markdown",
   "metadata": {},
   "source": [
    "# Second submission"
   ]
  },
  {
   "cell_type": "code",
   "execution_count": 34,
   "metadata": {},
   "outputs": [
    {
     "name": "stdout",
     "output_type": "stream",
     "text": [
      "Train on 31500 samples, validate on 10500 samples\n",
      "Epoch 1/40\n",
      "31500/31500 [==============================] - 18s 580us/step - loss: 0.2776 - acc: 0.9136 - val_loss: 0.0979 - val_acc: 0.9690\n",
      "Epoch 2/40\n",
      "31500/31500 [==============================] - 18s 581us/step - loss: 0.0853 - acc: 0.9743 - val_loss: 0.0759 - val_acc: 0.9763\n",
      "Epoch 3/40\n",
      "31500/31500 [==============================] - 18s 583us/step - loss: 0.0598 - acc: 0.9815 - val_loss: 0.0499 - val_acc: 0.9845\n",
      "Epoch 4/40\n",
      "31500/31500 [==============================] - 19s 589us/step - loss: 0.0474 - acc: 0.9850 - val_loss: 0.0669 - val_acc: 0.9803\n",
      "Epoch 5/40\n",
      "31500/31500 [==============================] - 18s 581us/step - loss: 0.0424 - acc: 0.9866 - val_loss: 0.0689 - val_acc: 0.9795\n",
      "Epoch 6/40\n",
      "31500/31500 [==============================] - 19s 590us/step - loss: 0.0338 - acc: 0.9894 - val_loss: 0.0515 - val_acc: 0.9860\n",
      "Epoch 7/40\n",
      "31500/31500 [==============================] - 19s 594us/step - loss: 0.0295 - acc: 0.9904 - val_loss: 0.0545 - val_acc: 0.9859\n",
      "Epoch 8/40\n",
      "31500/31500 [==============================] - 19s 613us/step - loss: 0.0244 - acc: 0.9925 - val_loss: 0.0588 - val_acc: 0.9841\n",
      "Epoch 9/40\n",
      "31500/31500 [==============================] - 19s 608us/step - loss: 0.0221 - acc: 0.9933 - val_loss: 0.0634 - val_acc: 0.9836\n",
      "Epoch 10/40\n",
      "31500/31500 [==============================] - 22s 690us/step - loss: 0.0212 - acc: 0.9930 - val_loss: 0.0576 - val_acc: 0.9848\n",
      "Epoch 11/40\n",
      "31500/31500 [==============================] - 25s 778us/step - loss: 0.0205 - acc: 0.9934 - val_loss: 0.0467 - val_acc: 0.9877\n",
      "Epoch 12/40\n",
      "31500/31500 [==============================] - 24s 747us/step - loss: 0.0152 - acc: 0.9947 - val_loss: 0.0672 - val_acc: 0.9848\n",
      "Epoch 13/40\n",
      "31500/31500 [==============================] - 19s 605us/step - loss: 0.0152 - acc: 0.9951 - val_loss: 0.0628 - val_acc: 0.9843\n",
      "Epoch 14/40\n",
      "31500/31500 [==============================] - 18s 569us/step - loss: 0.0175 - acc: 0.9942 - val_loss: 0.0683 - val_acc: 0.9840\n",
      "Epoch 15/40\n",
      "31500/31500 [==============================] - 19s 601us/step - loss: 0.0156 - acc: 0.9953 - val_loss: 0.0554 - val_acc: 0.9873\n",
      "Epoch 16/40\n",
      "31500/31500 [==============================] - 19s 594us/step - loss: 0.0127 - acc: 0.9957 - val_loss: 0.0604 - val_acc: 0.9861\n",
      "Epoch 17/40\n",
      "31500/31500 [==============================] - 19s 602us/step - loss: 0.0124 - acc: 0.9965 - val_loss: 0.0754 - val_acc: 0.9844\n",
      "Epoch 18/40\n",
      "31500/31500 [==============================] - 19s 617us/step - loss: 0.0145 - acc: 0.9958 - val_loss: 0.0621 - val_acc: 0.9865\n",
      "Epoch 19/40\n",
      "31500/31500 [==============================] - 19s 599us/step - loss: 0.0111 - acc: 0.9963 - val_loss: 0.0682 - val_acc: 0.9854\n",
      "Epoch 20/40\n",
      "31500/31500 [==============================] - 20s 627us/step - loss: 0.0110 - acc: 0.9966 - val_loss: 0.0612 - val_acc: 0.9890\n",
      "Epoch 21/40\n",
      "31500/31500 [==============================] - 19s 600us/step - loss: 0.0121 - acc: 0.9964 - val_loss: 0.0843 - val_acc: 0.9828\n",
      "Epoch 22/40\n",
      "31500/31500 [==============================] - 18s 561us/step - loss: 0.0126 - acc: 0.9958 - val_loss: 0.0787 - val_acc: 0.9835\n",
      "Epoch 23/40\n",
      "31500/31500 [==============================] - 18s 563us/step - loss: 0.0096 - acc: 0.9970 - val_loss: 0.0649 - val_acc: 0.9896\n",
      "Epoch 24/40\n",
      "31500/31500 [==============================] - 18s 578us/step - loss: 0.0067 - acc: 0.9978 - val_loss: 0.0933 - val_acc: 0.9830\n",
      "Epoch 25/40\n",
      "31500/31500 [==============================] - 20s 623us/step - loss: 0.0126 - acc: 0.9965 - val_loss: 0.0859 - val_acc: 0.9846\n",
      "Epoch 26/40\n",
      "31500/31500 [==============================] - 18s 586us/step - loss: 0.0091 - acc: 0.9972 - val_loss: 0.0794 - val_acc: 0.9857\n",
      "Epoch 27/40\n",
      "31500/31500 [==============================] - 19s 601us/step - loss: 0.0114 - acc: 0.9963 - val_loss: 0.0759 - val_acc: 0.9868\n",
      "Epoch 28/40\n",
      "31500/31500 [==============================] - 19s 600us/step - loss: 0.0089 - acc: 0.9975 - val_loss: 0.0702 - val_acc: 0.9864\n",
      "Epoch 29/40\n",
      "31500/31500 [==============================] - 19s 598us/step - loss: 0.0101 - acc: 0.9972 - val_loss: 0.0634 - val_acc: 0.9882\n",
      "Epoch 30/40\n",
      "31500/31500 [==============================] - 19s 597us/step - loss: 0.0063 - acc: 0.9979 - val_loss: 0.0787 - val_acc: 0.9880\n",
      "Epoch 31/40\n",
      "31500/31500 [==============================] - 19s 600us/step - loss: 0.0075 - acc: 0.9981 - val_loss: 0.0655 - val_acc: 0.9892\n",
      "Epoch 32/40\n",
      "31500/31500 [==============================] - 19s 600us/step - loss: 0.0093 - acc: 0.9975 - val_loss: 0.0771 - val_acc: 0.9864\n",
      "Epoch 33/40\n",
      "31500/31500 [==============================] - 19s 616us/step - loss: 0.0093 - acc: 0.9972 - val_loss: 0.0605 - val_acc: 0.9882\n",
      "Epoch 34/40\n",
      "31500/31500 [==============================] - 19s 617us/step - loss: 0.0070 - acc: 0.9982 - val_loss: 0.0852 - val_acc: 0.9871\n",
      "Epoch 35/40\n",
      "31500/31500 [==============================] - 20s 623us/step - loss: 0.0070 - acc: 0.9980 - val_loss: 0.0716 - val_acc: 0.9881\n",
      "Epoch 36/40\n",
      "31500/31500 [==============================] - 19s 608us/step - loss: 0.0083 - acc: 0.9978 - val_loss: 0.0678 - val_acc: 0.9890\n",
      "Epoch 37/40\n",
      "31500/31500 [==============================] - 19s 611us/step - loss: 0.0056 - acc: 0.9985 - val_loss: 0.0740 - val_acc: 0.9875\n",
      "Epoch 38/40\n",
      "31500/31500 [==============================] - 19s 609us/step - loss: 0.0105 - acc: 0.9972 - val_loss: 0.0695 - val_acc: 0.9884\n",
      "Epoch 39/40\n",
      "31500/31500 [==============================] - 19s 613us/step - loss: 0.0048 - acc: 0.9988 - val_loss: 0.0721 - val_acc: 0.9882\n",
      "Epoch 40/40\n",
      "31500/31500 [==============================] - 19s 613us/step - loss: 0.0059 - acc: 0.9984 - val_loss: 0.0891 - val_acc: 0.9839\n"
     ]
    },
    {
     "data": {
      "text/plain": [
       "<keras.callbacks.History at 0x12acfa048>"
      ]
     },
     "execution_count": 34,
     "metadata": {},
     "output_type": "execute_result"
    }
   ],
   "source": [
    "model = Sequential()\n",
    "model.add(Conv2D(15, kernel_size=(5,5), input_shape=(28,28,1), activation='relu'))\n",
    "model.add(MaxPool2D(2,2))\n",
    "model.add(Conv2D(30, kernel_size=(4,4), activation='relu'))\n",
    "model.add(MaxPool2D(2,2))\n",
    "model.add(Conv2D(45, kernel_size=(3,3), activation='relu'))\n",
    "model.add(MaxPool2D(2,2))\n",
    "model.add(Flatten())\n",
    "model.add(Dense(512, activation='relu'))\n",
    "model.add(Dense(128, activation='relu'))\n",
    "model.add(Dense(10, activation='softmax'))\n",
    "\n",
    "model.compile(optimizer='adam', loss='categorical_crossentropy', metrics=['accuracy'])\n",
    "\n",
    "model.fit(X_train, y_train, validation_data=(X_test, y_test), epochs=40)"
   ]
  },
  {
   "cell_type": "code",
   "execution_count": 35,
   "metadata": {},
   "outputs": [
    {
     "name": "stdout",
     "output_type": "stream",
     "text": [
      "28000/28000 [==============================] - 5s 161us/step\n"
     ]
    }
   ],
   "source": [
    "test = pd.read_csv('test.csv')\n",
    "test = test.values/255.\n",
    "test = test.reshape(test.shape[0], 28,28,1)\n",
    "\n",
    "pred = model.predict_classes(test)"
   ]
  },
  {
   "cell_type": "code",
   "execution_count": 36,
   "metadata": {
    "collapsed": true
   },
   "outputs": [],
   "source": [
    "submission = pd.DataFrame()\n",
    "\n",
    "\n",
    "submission['ImageId'] = range(1,test.shape[0] + 1)\n",
    "\n",
    "submission['Label']= pred\n",
    "\n",
    "submission.to_csv('submission6.csv', index=False)"
   ]
  },
  {
   "cell_type": "code",
   "execution_count": 37,
   "metadata": {
    "collapsed": true
   },
   "outputs": [],
   "source": [
    "# This time is 0.98457"
   ]
  },
  {
   "cell_type": "code",
   "execution_count": null,
   "metadata": {
    "collapsed": true
   },
   "outputs": [],
   "source": []
  }
 ],
 "metadata": {
  "kernelspec": {
   "display_name": "Python 3",
   "language": "python",
   "name": "python3"
  },
  "language_info": {
   "codemirror_mode": {
    "name": "ipython",
    "version": 3
   },
   "file_extension": ".py",
   "mimetype": "text/x-python",
   "name": "python",
   "nbconvert_exporter": "python",
   "pygments_lexer": "ipython3",
   "version": "3.6.1"
  }
 },
 "nbformat": 4,
 "nbformat_minor": 2
}
