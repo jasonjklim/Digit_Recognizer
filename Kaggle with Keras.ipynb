{
 "cells": [
  {
   "cell_type": "code",
   "execution_count": 1,
   "metadata": {},
   "outputs": [
    {
     "name": "stderr",
     "output_type": "stream",
     "text": [
      "Using Theano backend.\n"
     ]
    }
   ],
   "source": [
    "import pandas as pd\n",
    "from keras.models import Sequential\n",
    "from keras.layers import Dense, Input, Dropout\n",
    "from keras.utils import to_categorical\n",
    "from sklearn.model_selection import train_test_split"
   ]
  },
  {
   "cell_type": "markdown",
   "metadata": {},
   "source": [
    "### Load training data\n",
    "\n",
    "Load `train.csv` from Kaggle into a pandas DataFrame."
   ]
  },
  {
   "cell_type": "code",
   "execution_count": 2,
   "metadata": {},
   "outputs": [],
   "source": [
    "df = pd.read_csv('train.csv')"
   ]
  },
  {
   "cell_type": "code",
   "execution_count": 3,
   "metadata": {},
   "outputs": [
    {
     "data": {
      "text/html": [
       "<div>\n",
       "<style>\n",
       "    .dataframe thead tr:only-child th {\n",
       "        text-align: right;\n",
       "    }\n",
       "\n",
       "    .dataframe thead th {\n",
       "        text-align: left;\n",
       "    }\n",
       "\n",
       "    .dataframe tbody tr th {\n",
       "        vertical-align: top;\n",
       "    }\n",
       "</style>\n",
       "<table border=\"1\" class=\"dataframe\">\n",
       "  <thead>\n",
       "    <tr style=\"text-align: right;\">\n",
       "      <th></th>\n",
       "      <th>label</th>\n",
       "      <th>pixel0</th>\n",
       "      <th>pixel1</th>\n",
       "      <th>pixel2</th>\n",
       "      <th>pixel3</th>\n",
       "      <th>pixel4</th>\n",
       "      <th>pixel5</th>\n",
       "      <th>pixel6</th>\n",
       "      <th>pixel7</th>\n",
       "      <th>pixel8</th>\n",
       "      <th>...</th>\n",
       "      <th>pixel774</th>\n",
       "      <th>pixel775</th>\n",
       "      <th>pixel776</th>\n",
       "      <th>pixel777</th>\n",
       "      <th>pixel778</th>\n",
       "      <th>pixel779</th>\n",
       "      <th>pixel780</th>\n",
       "      <th>pixel781</th>\n",
       "      <th>pixel782</th>\n",
       "      <th>pixel783</th>\n",
       "    </tr>\n",
       "  </thead>\n",
       "  <tbody>\n",
       "    <tr>\n",
       "      <th>0</th>\n",
       "      <td>1</td>\n",
       "      <td>0</td>\n",
       "      <td>0</td>\n",
       "      <td>0</td>\n",
       "      <td>0</td>\n",
       "      <td>0</td>\n",
       "      <td>0</td>\n",
       "      <td>0</td>\n",
       "      <td>0</td>\n",
       "      <td>0</td>\n",
       "      <td>...</td>\n",
       "      <td>0</td>\n",
       "      <td>0</td>\n",
       "      <td>0</td>\n",
       "      <td>0</td>\n",
       "      <td>0</td>\n",
       "      <td>0</td>\n",
       "      <td>0</td>\n",
       "      <td>0</td>\n",
       "      <td>0</td>\n",
       "      <td>0</td>\n",
       "    </tr>\n",
       "    <tr>\n",
       "      <th>1</th>\n",
       "      <td>0</td>\n",
       "      <td>0</td>\n",
       "      <td>0</td>\n",
       "      <td>0</td>\n",
       "      <td>0</td>\n",
       "      <td>0</td>\n",
       "      <td>0</td>\n",
       "      <td>0</td>\n",
       "      <td>0</td>\n",
       "      <td>0</td>\n",
       "      <td>...</td>\n",
       "      <td>0</td>\n",
       "      <td>0</td>\n",
       "      <td>0</td>\n",
       "      <td>0</td>\n",
       "      <td>0</td>\n",
       "      <td>0</td>\n",
       "      <td>0</td>\n",
       "      <td>0</td>\n",
       "      <td>0</td>\n",
       "      <td>0</td>\n",
       "    </tr>\n",
       "    <tr>\n",
       "      <th>2</th>\n",
       "      <td>1</td>\n",
       "      <td>0</td>\n",
       "      <td>0</td>\n",
       "      <td>0</td>\n",
       "      <td>0</td>\n",
       "      <td>0</td>\n",
       "      <td>0</td>\n",
       "      <td>0</td>\n",
       "      <td>0</td>\n",
       "      <td>0</td>\n",
       "      <td>...</td>\n",
       "      <td>0</td>\n",
       "      <td>0</td>\n",
       "      <td>0</td>\n",
       "      <td>0</td>\n",
       "      <td>0</td>\n",
       "      <td>0</td>\n",
       "      <td>0</td>\n",
       "      <td>0</td>\n",
       "      <td>0</td>\n",
       "      <td>0</td>\n",
       "    </tr>\n",
       "    <tr>\n",
       "      <th>3</th>\n",
       "      <td>4</td>\n",
       "      <td>0</td>\n",
       "      <td>0</td>\n",
       "      <td>0</td>\n",
       "      <td>0</td>\n",
       "      <td>0</td>\n",
       "      <td>0</td>\n",
       "      <td>0</td>\n",
       "      <td>0</td>\n",
       "      <td>0</td>\n",
       "      <td>...</td>\n",
       "      <td>0</td>\n",
       "      <td>0</td>\n",
       "      <td>0</td>\n",
       "      <td>0</td>\n",
       "      <td>0</td>\n",
       "      <td>0</td>\n",
       "      <td>0</td>\n",
       "      <td>0</td>\n",
       "      <td>0</td>\n",
       "      <td>0</td>\n",
       "    </tr>\n",
       "    <tr>\n",
       "      <th>4</th>\n",
       "      <td>0</td>\n",
       "      <td>0</td>\n",
       "      <td>0</td>\n",
       "      <td>0</td>\n",
       "      <td>0</td>\n",
       "      <td>0</td>\n",
       "      <td>0</td>\n",
       "      <td>0</td>\n",
       "      <td>0</td>\n",
       "      <td>0</td>\n",
       "      <td>...</td>\n",
       "      <td>0</td>\n",
       "      <td>0</td>\n",
       "      <td>0</td>\n",
       "      <td>0</td>\n",
       "      <td>0</td>\n",
       "      <td>0</td>\n",
       "      <td>0</td>\n",
       "      <td>0</td>\n",
       "      <td>0</td>\n",
       "      <td>0</td>\n",
       "    </tr>\n",
       "  </tbody>\n",
       "</table>\n",
       "<p>5 rows × 785 columns</p>\n",
       "</div>"
      ],
      "text/plain": [
       "   label  pixel0  pixel1  pixel2  pixel3  pixel4  pixel5  pixel6  pixel7  \\\n",
       "0      1       0       0       0       0       0       0       0       0   \n",
       "1      0       0       0       0       0       0       0       0       0   \n",
       "2      1       0       0       0       0       0       0       0       0   \n",
       "3      4       0       0       0       0       0       0       0       0   \n",
       "4      0       0       0       0       0       0       0       0       0   \n",
       "\n",
       "   pixel8    ...     pixel774  pixel775  pixel776  pixel777  pixel778  \\\n",
       "0       0    ...            0         0         0         0         0   \n",
       "1       0    ...            0         0         0         0         0   \n",
       "2       0    ...            0         0         0         0         0   \n",
       "3       0    ...            0         0         0         0         0   \n",
       "4       0    ...            0         0         0         0         0   \n",
       "\n",
       "   pixel779  pixel780  pixel781  pixel782  pixel783  \n",
       "0         0         0         0         0         0  \n",
       "1         0         0         0         0         0  \n",
       "2         0         0         0         0         0  \n",
       "3         0         0         0         0         0  \n",
       "4         0         0         0         0         0  \n",
       "\n",
       "[5 rows x 785 columns]"
      ]
     },
     "execution_count": 3,
     "metadata": {},
     "output_type": "execute_result"
    }
   ],
   "source": [
    "df.head()"
   ]
  },
  {
   "cell_type": "markdown",
   "metadata": {},
   "source": [
    "### Set up X and y\n",
    "\n",
    "NOTE: Keras requires a `numpy` matrix, it doesn't work with `pandas`."
   ]
  },
  {
   "cell_type": "code",
   "execution_count": 4,
   "metadata": {},
   "outputs": [],
   "source": [
    "y= df['label']\n",
    "X= df.drop(['label'], axis=1).values"
   ]
  },
  {
   "cell_type": "code",
   "execution_count": 5,
   "metadata": {},
   "outputs": [
    {
     "data": {
      "text/plain": [
       "numpy.ndarray"
      ]
     },
     "execution_count": 5,
     "metadata": {},
     "output_type": "execute_result"
    }
   ],
   "source": [
    "type(X)"
   ]
  },
  {
   "cell_type": "markdown",
   "metadata": {},
   "source": [
    "### Preprocessing\n",
    "\n",
    "1. When dealing with image data, you need to normalize your `X` by dividing each value by the max number of pixels (255).\n",
    "2. Since this is a multiclass classification problem, keras needs `y` to be a one-hot encoded matrix"
   ]
  },
  {
   "cell_type": "code",
   "execution_count": 6,
   "metadata": {
    "collapsed": true
   },
   "outputs": [],
   "source": [
    "y = to_categorical(y)"
   ]
  },
  {
   "cell_type": "code",
   "execution_count": 7,
   "metadata": {
    "collapsed": true
   },
   "outputs": [],
   "source": [
    "X = X/255."
   ]
  },
  {
   "cell_type": "code",
   "execution_count": 8,
   "metadata": {},
   "outputs": [
    {
     "data": {
      "text/plain": [
       "array([[ 0.,  0.,  0., ...,  0.,  0.,  0.],\n",
       "       [ 0.,  0.,  0., ...,  0.,  0.,  0.],\n",
       "       [ 0.,  0.,  0., ...,  0.,  0.,  0.],\n",
       "       ..., \n",
       "       [ 0.,  0.,  0., ...,  0.,  0.,  0.],\n",
       "       [ 0.,  0.,  0., ...,  0.,  0.,  0.],\n",
       "       [ 0.,  0.,  0., ...,  0.,  0.,  0.]])"
      ]
     },
     "execution_count": 8,
     "metadata": {},
     "output_type": "execute_result"
    }
   ],
   "source": [
    "X"
   ]
  },
  {
   "cell_type": "markdown",
   "metadata": {},
   "source": [
    "### Train/Test Split\n",
    "\n",
    "We want to create a validation set that the model will never see to approximate how it's going to do with Kaggle's `test.csv`. Use `sklearn`'s `train_test_split` to do this."
   ]
  },
  {
   "cell_type": "code",
   "execution_count": 9,
   "metadata": {
    "collapsed": true
   },
   "outputs": [],
   "source": [
    "X_train, X_test, y_train, y_test = train_test_split(X, y)"
   ]
  },
  {
   "cell_type": "code",
   "execution_count": 10,
   "metadata": {},
   "outputs": [
    {
     "name": "stdout",
     "output_type": "stream",
     "text": [
      "(31500, 784) (10500, 784) (31500, 10) (10500, 10)\n"
     ]
    }
   ],
   "source": [
    "print(X_train.shape, X_test.shape, y_train.shape, y_test.shape)"
   ]
  },
  {
   "cell_type": "markdown",
   "metadata": {},
   "source": [
    "### Create your neural network\n",
    "\n",
    "Create a neural network using the `Dense` and `Dropout` layers from `keras`. Your activation function for the final output layer needs to be `softmax` to accomidate the ten different classes."
   ]
  },
  {
   "cell_type": "code",
   "execution_count": 11,
   "metadata": {
    "collapsed": true
   },
   "outputs": [],
   "source": [
    "model = Sequential()\n",
    "model.add(Dense(X_train.shape[1], input_dim=X_train.shape[1], activation='relu'))\n",
    "model.add(Dropout(.5))\n",
    "model.add(Dense(100, input_dim=X_train.shape[1], activation='relu'))\n",
    "model.add(Dense(y.shape[1], activation='softmax'))\n",
    "\n"
   ]
  },
  {
   "cell_type": "markdown",
   "metadata": {},
   "source": [
    "### Compile your model\n",
    "\n",
    "Since this is a multiclass classification problem, your loss function is `categorical_crossentropy`."
   ]
  },
  {
   "cell_type": "code",
   "execution_count": 12,
   "metadata": {
    "collapsed": true
   },
   "outputs": [],
   "source": [
    "model.compile(loss='categorical_crossentropy', optimizer='adam', metrics=['accuracy'])"
   ]
  },
  {
   "cell_type": "markdown",
   "metadata": {},
   "source": [
    "### Fit the model\n",
    "\n",
    "Use your X_test, y_test from the `train_test_split` step for the `validation_data` parameter."
   ]
  },
  {
   "cell_type": "code",
   "execution_count": 13,
   "metadata": {},
   "outputs": [
    {
     "name": "stdout",
     "output_type": "stream",
     "text": [
      "Train on 31500 samples, validate on 10500 samples\n",
      "Epoch 1/10\n",
      "31500/31500 [==============================] - 7s 211us/step - loss: 0.3216 - acc: 0.9001 - val_loss: 0.1514 - val_acc: 0.9538\n",
      "Epoch 2/10\n",
      "31500/31500 [==============================] - 10s 313us/step - loss: 0.1621 - acc: 0.9488 - val_loss: 0.1291 - val_acc: 0.9592\n",
      "Epoch 3/10\n",
      "31500/31500 [==============================] - 11s 353us/step - loss: 0.1266 - acc: 0.9603 - val_loss: 0.1122 - val_acc: 0.9657\n",
      "Epoch 4/10\n",
      "31500/31500 [==============================] - 12s 366us/step - loss: 0.1041 - acc: 0.9675 - val_loss: 0.0951 - val_acc: 0.9707\n",
      "Epoch 5/10\n",
      "31500/31500 [==============================] - 12s 371us/step - loss: 0.0945 - acc: 0.9700 - val_loss: 0.0873 - val_acc: 0.9730\n",
      "Epoch 6/10\n",
      "31500/31500 [==============================] - 12s 383us/step - loss: 0.0822 - acc: 0.9728 - val_loss: 0.0966 - val_acc: 0.9731\n",
      "Epoch 7/10\n",
      "31500/31500 [==============================] - 12s 392us/step - loss: 0.0749 - acc: 0.9757 - val_loss: 0.0951 - val_acc: 0.9729\n",
      "Epoch 8/10\n",
      "31500/31500 [==============================] - 12s 393us/step - loss: 0.0670 - acc: 0.9775 - val_loss: 0.0864 - val_acc: 0.9760\n",
      "Epoch 9/10\n",
      "31500/31500 [==============================] - 13s 397us/step - loss: 0.0600 - acc: 0.9804 - val_loss: 0.0960 - val_acc: 0.9757\n",
      "Epoch 10/10\n",
      "31500/31500 [==============================] - 13s 399us/step - loss: 0.0605 - acc: 0.9805 - val_loss: 0.0853 - val_acc: 0.9771\n"
     ]
    },
    {
     "data": {
      "text/plain": [
       "<keras.callbacks.History at 0x118753048>"
      ]
     },
     "execution_count": 13,
     "metadata": {},
     "output_type": "execute_result"
    }
   ],
   "source": [
    "model.fit(X_train, y_train, validation_data=(X_test, y_test), epochs=10)"
   ]
  },
  {
   "cell_type": "markdown",
   "metadata": {},
   "source": [
    "### Load in Kaggle's `test.csv`\n",
    "\n",
    "Be sure to do the **same** preprocessing you did for your training `X`."
   ]
  },
  {
   "cell_type": "code",
   "execution_count": 16,
   "metadata": {
    "collapsed": true
   },
   "outputs": [],
   "source": [
    "test = pd.read_csv('test.csv')\n",
    "test = test.values/255."
   ]
  },
  {
   "cell_type": "markdown",
   "metadata": {},
   "source": [
    "### Create your predictions\n",
    "\n",
    "Use `predict_classes` to get the actual numerical values (0-9)."
   ]
  },
  {
   "cell_type": "code",
   "execution_count": 17,
   "metadata": {},
   "outputs": [
    {
     "name": "stdout",
     "output_type": "stream",
     "text": [
      "28000/28000 [==============================] - 1s 43us/step\n"
     ]
    }
   ],
   "source": [
    "pred = model.predict_classes(test)"
   ]
  },
  {
   "cell_type": "code",
   "execution_count": 18,
   "metadata": {},
   "outputs": [
    {
     "data": {
      "text/plain": [
       "array([2, 0, 9, ..., 3, 9, 2])"
      ]
     },
     "execution_count": 18,
     "metadata": {},
     "output_type": "execute_result"
    }
   ],
   "source": [
    "pred"
   ]
  },
  {
   "cell_type": "markdown",
   "metadata": {},
   "source": [
    "### Prepare your submission\n",
    "\n",
    "1. Add your predictions to a column called `Label`\n",
    "2. You'll need to manually create the `ImageId` column, which is just a list of 1..[NUMBER OF TEST SAMPLES]"
   ]
  },
  {
   "cell_type": "code",
   "execution_count": 20,
   "metadata": {},
   "outputs": [],
   "source": [
    "submission = pd.DataFrame()\n",
    "\n",
    "\n",
    "submission['ImageId'] = range(1,test.shape[0] + 1)\n",
    "\n",
    "submission['Label']= pred"
   ]
  },
  {
   "cell_type": "code",
   "execution_count": 23,
   "metadata": {},
   "outputs": [
    {
     "data": {
      "text/html": [
       "<div>\n",
       "<style>\n",
       "    .dataframe thead tr:only-child th {\n",
       "        text-align: right;\n",
       "    }\n",
       "\n",
       "    .dataframe thead th {\n",
       "        text-align: left;\n",
       "    }\n",
       "\n",
       "    .dataframe tbody tr th {\n",
       "        vertical-align: top;\n",
       "    }\n",
       "</style>\n",
       "<table border=\"1\" class=\"dataframe\">\n",
       "  <thead>\n",
       "    <tr style=\"text-align: right;\">\n",
       "      <th></th>\n",
       "      <th>ImageId</th>\n",
       "      <th>Label</th>\n",
       "    </tr>\n",
       "  </thead>\n",
       "  <tbody>\n",
       "    <tr>\n",
       "      <th>0</th>\n",
       "      <td>1</td>\n",
       "      <td>2</td>\n",
       "    </tr>\n",
       "    <tr>\n",
       "      <th>1</th>\n",
       "      <td>2</td>\n",
       "      <td>0</td>\n",
       "    </tr>\n",
       "    <tr>\n",
       "      <th>2</th>\n",
       "      <td>3</td>\n",
       "      <td>9</td>\n",
       "    </tr>\n",
       "    <tr>\n",
       "      <th>3</th>\n",
       "      <td>4</td>\n",
       "      <td>9</td>\n",
       "    </tr>\n",
       "    <tr>\n",
       "      <th>4</th>\n",
       "      <td>5</td>\n",
       "      <td>3</td>\n",
       "    </tr>\n",
       "  </tbody>\n",
       "</table>\n",
       "</div>"
      ],
      "text/plain": [
       "   ImageId  Label\n",
       "0        1      2\n",
       "1        2      0\n",
       "2        3      9\n",
       "3        4      9\n",
       "4        5      3"
      ]
     },
     "execution_count": 23,
     "metadata": {},
     "output_type": "execute_result"
    }
   ],
   "source": [
    "submission.head()"
   ]
  },
  {
   "cell_type": "markdown",
   "metadata": {},
   "source": [
    "### Create your submission csv\n",
    "\n",
    "Remember to set `index=False`!"
   ]
  },
  {
   "cell_type": "code",
   "execution_count": 24,
   "metadata": {
    "collapsed": true
   },
   "outputs": [],
   "source": [
    "submission.to_csv('submission.csv', index=False)"
   ]
  },
  {
   "cell_type": "code",
   "execution_count": 25,
   "metadata": {
    "collapsed": true
   },
   "outputs": [],
   "source": [
    "# First score is 97.5%"
   ]
  },
  {
   "cell_type": "markdown",
   "metadata": {},
   "source": [
    "# Second model"
   ]
  },
  {
   "cell_type": "code",
   "execution_count": 12,
   "metadata": {},
   "outputs": [
    {
     "name": "stdout",
     "output_type": "stream",
     "text": [
      "Train on 31500 samples, validate on 10500 samples\n",
      "Epoch 1/20\n",
      "31500/31500 [==============================] - 10s 303us/step - loss: 0.2876 - acc: 0.9111 - val_loss: 0.1603 - val_acc: 0.9495\n",
      "Epoch 2/20\n",
      "31500/31500 [==============================] - 15s 469us/step - loss: 0.1234 - acc: 0.9629 - val_loss: 0.1188 - val_acc: 0.9644\n",
      "Epoch 3/20\n",
      "31500/31500 [==============================] - 17s 534us/step - loss: 0.0912 - acc: 0.9718 - val_loss: 0.1037 - val_acc: 0.9725\n",
      "Epoch 4/20\n",
      "31500/31500 [==============================] - 18s 585us/step - loss: 0.0655 - acc: 0.9810 - val_loss: 0.1038 - val_acc: 0.9728\n",
      "Epoch 5/20\n",
      "31500/31500 [==============================] - 19s 611us/step - loss: 0.0592 - acc: 0.9815 - val_loss: 0.1344 - val_acc: 0.9658\n",
      "Epoch 6/20\n",
      "31500/31500 [==============================] - 20s 632us/step - loss: 0.0458 - acc: 0.9857 - val_loss: 0.1107 - val_acc: 0.9719\n",
      "Epoch 7/20\n",
      "31500/31500 [==============================] - 21s 665us/step - loss: 0.0434 - acc: 0.9867 - val_loss: 0.1129 - val_acc: 0.9724\n",
      "Epoch 8/20\n",
      "31500/31500 [==============================] - 22s 686us/step - loss: 0.0368 - acc: 0.9892 - val_loss: 0.1195 - val_acc: 0.9737\n",
      "Epoch 9/20\n",
      "31500/31500 [==============================] - 22s 702us/step - loss: 0.0318 - acc: 0.9900 - val_loss: 0.1248 - val_acc: 0.9744\n",
      "Epoch 10/20\n",
      "31500/31500 [==============================] - 23s 743us/step - loss: 0.0298 - acc: 0.9907 - val_loss: 0.1576 - val_acc: 0.9707\n",
      "Epoch 11/20\n",
      "31500/31500 [==============================] - 24s 759us/step - loss: 0.0296 - acc: 0.9913 - val_loss: 0.1308 - val_acc: 0.9755\n",
      "Epoch 12/20\n",
      "31500/31500 [==============================] - 25s 779us/step - loss: 0.0200 - acc: 0.9936 - val_loss: 0.1429 - val_acc: 0.9721\n",
      "Epoch 13/20\n",
      "31500/31500 [==============================] - 25s 785us/step - loss: 0.0263 - acc: 0.9926 - val_loss: 0.1299 - val_acc: 0.9769\n",
      "Epoch 14/20\n",
      "31500/31500 [==============================] - 25s 795us/step - loss: 0.0247 - acc: 0.9928 - val_loss: 0.1474 - val_acc: 0.9724\n",
      "Epoch 15/20\n",
      "31500/31500 [==============================] - 25s 793us/step - loss: 0.0196 - acc: 0.9943 - val_loss: 0.1476 - val_acc: 0.9765\n",
      "Epoch 16/20\n",
      "31500/31500 [==============================] - 25s 803us/step - loss: 0.0209 - acc: 0.9939 - val_loss: 0.1354 - val_acc: 0.9777\n",
      "Epoch 17/20\n",
      "31500/31500 [==============================] - 26s 817us/step - loss: 0.0205 - acc: 0.9941 - val_loss: 0.1454 - val_acc: 0.9757\n",
      "Epoch 18/20\n",
      "31500/31500 [==============================] - 26s 826us/step - loss: 0.0173 - acc: 0.9951 - val_loss: 0.1424 - val_acc: 0.9766\n",
      "Epoch 19/20\n",
      "31500/31500 [==============================] - 26s 832us/step - loss: 0.0152 - acc: 0.9959 - val_loss: 0.1691 - val_acc: 0.9733\n",
      "Epoch 20/20\n",
      "31500/31500 [==============================] - 26s 841us/step - loss: 0.0202 - acc: 0.9949 - val_loss: 0.1562 - val_acc: 0.9734\n"
     ]
    },
    {
     "data": {
      "text/plain": [
       "<keras.callbacks.History at 0x114273198>"
      ]
     },
     "execution_count": 12,
     "metadata": {},
     "output_type": "execute_result"
    }
   ],
   "source": [
    "model = Sequential()\n",
    "model.add(Dense(X_train.shape[1], input_dim=X_train.shape[1], activation='relu'))\n",
    "model.add(Dense(500, activation='relu'))\n",
    "model.add(Dropout(0.5))\n",
    "model.add(Dense(100, activation='relu'))\n",
    "model.add(Dense(y.shape[1], activation='softmax'))\n",
    "\n",
    "\n",
    "model.compile(loss='categorical_crossentropy', optimizer='adam', metrics=['accuracy'])\n",
    "\n",
    "model.fit(X_train, y_train, validation_data=(X_test, y_test), epochs=20)"
   ]
  },
  {
   "cell_type": "code",
   "execution_count": 13,
   "metadata": {},
   "outputs": [
    {
     "name": "stdout",
     "output_type": "stream",
     "text": [
      "28000/28000 [==============================] - 1s 49us/step\n"
     ]
    }
   ],
   "source": [
    "test = pd.read_csv('test.csv')\n",
    "test = test.values/255.\n",
    "\n",
    "pred = model.predict_classes(test)\n"
   ]
  },
  {
   "cell_type": "code",
   "execution_count": 14,
   "metadata": {
    "collapsed": true
   },
   "outputs": [],
   "source": [
    "submission = pd.DataFrame()\n",
    "\n",
    "\n",
    "submission['ImageId'] = range(1,test.shape[0] + 1)\n",
    "\n",
    "submission['Label']= pred"
   ]
  },
  {
   "cell_type": "code",
   "execution_count": 15,
   "metadata": {
    "collapsed": true
   },
   "outputs": [],
   "source": [
    "submission.to_csv('submission2.csv', index=False)"
   ]
  },
  {
   "cell_type": "code",
   "execution_count": 16,
   "metadata": {
    "collapsed": true
   },
   "outputs": [],
   "source": [
    "# Second submission is 97.3%"
   ]
  },
  {
   "cell_type": "markdown",
   "metadata": {},
   "source": [
    "# Third submission"
   ]
  },
  {
   "cell_type": "code",
   "execution_count": 19,
   "metadata": {},
   "outputs": [
    {
     "name": "stdout",
     "output_type": "stream",
     "text": [
      "Train on 31500 samples, validate on 10500 samples\n",
      "Epoch 1/50\n",
      "31500/31500 [==============================] - 4s 114us/step - loss: 0.2694 - acc: 0.9168 - val_loss: 0.1338 - val_acc: 0.9576\n",
      "Epoch 2/50\n",
      "31500/31500 [==============================] - 4s 115us/step - loss: 0.0996 - acc: 0.9706 - val_loss: 0.1148 - val_acc: 0.9656\n",
      "Epoch 3/50\n",
      "31500/31500 [==============================] - 4s 137us/step - loss: 0.0609 - acc: 0.9796 - val_loss: 0.1155 - val_acc: 0.9669\n",
      "Epoch 4/50\n",
      "31500/31500 [==============================] - 5s 143us/step - loss: 0.0420 - acc: 0.9862 - val_loss: 0.1039 - val_acc: 0.9708\n",
      "Epoch 5/50\n",
      "31500/31500 [==============================] - 5s 148us/step - loss: 0.0345 - acc: 0.9883 - val_loss: 0.1228 - val_acc: 0.9678\n",
      "Epoch 6/50\n",
      "31500/31500 [==============================] - 5s 156us/step - loss: 0.0276 - acc: 0.9907 - val_loss: 0.1106 - val_acc: 0.9736\n",
      "Epoch 7/50\n",
      "31500/31500 [==============================] - 5s 156us/step - loss: 0.0245 - acc: 0.9922 - val_loss: 0.1218 - val_acc: 0.9704\n",
      "Epoch 8/50\n",
      "31500/31500 [==============================] - 5s 162us/step - loss: 0.0271 - acc: 0.9908 - val_loss: 0.1304 - val_acc: 0.9677\n",
      "Epoch 9/50\n",
      "31500/31500 [==============================] - 5s 167us/step - loss: 0.0168 - acc: 0.9947 - val_loss: 0.1197 - val_acc: 0.9735\n",
      "Epoch 10/50\n",
      "31500/31500 [==============================] - 5s 174us/step - loss: 0.0162 - acc: 0.9943 - val_loss: 0.1277 - val_acc: 0.9733\n",
      "Epoch 11/50\n",
      "31500/31500 [==============================] - 6s 180us/step - loss: 0.0181 - acc: 0.9943 - val_loss: 0.1280 - val_acc: 0.9730\n",
      "Epoch 12/50\n",
      "31500/31500 [==============================] - 6s 186us/step - loss: 0.0155 - acc: 0.9950 - val_loss: 0.1355 - val_acc: 0.9726\n",
      "Epoch 13/50\n",
      "31500/31500 [==============================] - 6s 183us/step - loss: 0.0127 - acc: 0.9957 - val_loss: 0.1735 - val_acc: 0.9675\n",
      "Epoch 14/50\n",
      "31500/31500 [==============================] - 6s 188us/step - loss: 0.0145 - acc: 0.9957 - val_loss: 0.1234 - val_acc: 0.9750\n",
      "Epoch 15/50\n",
      "31500/31500 [==============================] - 6s 188us/step - loss: 0.0110 - acc: 0.9967 - val_loss: 0.1246 - val_acc: 0.9770\n",
      "Epoch 16/50\n",
      "31500/31500 [==============================] - 6s 195us/step - loss: 0.0115 - acc: 0.9968 - val_loss: 0.1248 - val_acc: 0.9755\n",
      "Epoch 17/50\n",
      "31500/31500 [==============================] - 6s 194us/step - loss: 0.0094 - acc: 0.9969 - val_loss: 0.1450 - val_acc: 0.9741\n",
      "Epoch 18/50\n",
      "31500/31500 [==============================] - 6s 195us/step - loss: 0.0107 - acc: 0.9965 - val_loss: 0.1603 - val_acc: 0.9704\n",
      "Epoch 19/50\n",
      "31500/31500 [==============================] - 6s 198us/step - loss: 0.0111 - acc: 0.9961 - val_loss: 0.1404 - val_acc: 0.9756\n",
      "Epoch 20/50\n",
      "31500/31500 [==============================] - 6s 201us/step - loss: 0.0126 - acc: 0.9961 - val_loss: 0.1397 - val_acc: 0.9757\n",
      "Epoch 21/50\n",
      "31500/31500 [==============================] - 6s 204us/step - loss: 0.0072 - acc: 0.9981 - val_loss: 0.1570 - val_acc: 0.9741\n",
      "Epoch 22/50\n",
      "31500/31500 [==============================] - 7s 212us/step - loss: 0.0133 - acc: 0.9961 - val_loss: 0.1576 - val_acc: 0.9700\n",
      "Epoch 23/50\n",
      "31500/31500 [==============================] - 7s 208us/step - loss: 0.0126 - acc: 0.9969 - val_loss: 0.1615 - val_acc: 0.9700\n",
      "Epoch 24/50\n",
      "31500/31500 [==============================] - 7s 209us/step - loss: 0.0115 - acc: 0.9967 - val_loss: 0.1370 - val_acc: 0.9754\n",
      "Epoch 25/50\n",
      "31500/31500 [==============================] - 7s 210us/step - loss: 0.0031 - acc: 0.9990 - val_loss: 0.1388 - val_acc: 0.9775\n",
      "Epoch 26/50\n",
      "31500/31500 [==============================] - 7s 222us/step - loss: 0.0087 - acc: 0.9978 - val_loss: 0.1470 - val_acc: 0.9750\n",
      "Epoch 27/50\n",
      "31500/31500 [==============================] - 7s 226us/step - loss: 0.0093 - acc: 0.9974 - val_loss: 0.1313 - val_acc: 0.9767\n",
      "Epoch 28/50\n",
      "31500/31500 [==============================] - 7s 232us/step - loss: 0.0034 - acc: 0.9990 - val_loss: 0.1335 - val_acc: 0.9790\n",
      "Epoch 29/50\n",
      "31500/31500 [==============================] - 7s 232us/step - loss: 0.0102 - acc: 0.9975 - val_loss: 0.1814 - val_acc: 0.9708\n",
      "Epoch 30/50\n",
      "31500/31500 [==============================] - 7s 217us/step - loss: 0.0092 - acc: 0.9973 - val_loss: 0.1378 - val_acc: 0.9781\n",
      "Epoch 31/50\n",
      "31500/31500 [==============================] - 7s 220us/step - loss: 0.0036 - acc: 0.9990 - val_loss: 0.1229 - val_acc: 0.9780\n",
      "Epoch 32/50\n",
      "31500/31500 [==============================] - 8s 244us/step - loss: 0.0093 - acc: 0.9972 - val_loss: 0.1416 - val_acc: 0.9774\n",
      "Epoch 33/50\n",
      "31500/31500 [==============================] - 9s 275us/step - loss: 0.0072 - acc: 0.9977 - val_loss: 0.1478 - val_acc: 0.9764\n",
      "Epoch 34/50\n",
      "31500/31500 [==============================] - 8s 244us/step - loss: 0.0071 - acc: 0.9980 - val_loss: 0.1291 - val_acc: 0.9788\n",
      "Epoch 35/50\n",
      "31500/31500 [==============================] - 8s 241us/step - loss: 0.0031 - acc: 0.9992 - val_loss: 0.1253 - val_acc: 0.9796\n",
      "Epoch 36/50\n",
      "31500/31500 [==============================] - 8s 243us/step - loss: 0.0060 - acc: 0.9983 - val_loss: 0.1460 - val_acc: 0.9763\n",
      "Epoch 37/50\n",
      "31500/31500 [==============================] - 8s 242us/step - loss: 0.0075 - acc: 0.9979 - val_loss: 0.1703 - val_acc: 0.9734\n",
      "Epoch 38/50\n",
      "31500/31500 [==============================] - 8s 253us/step - loss: 0.0088 - acc: 0.9974 - val_loss: 0.1492 - val_acc: 0.9783\n",
      "Epoch 39/50\n",
      "31500/31500 [==============================] - 8s 269us/step - loss: 0.0057 - acc: 0.9985 - val_loss: 0.1492 - val_acc: 0.9770\n",
      "Epoch 40/50\n",
      "31500/31500 [==============================] - 9s 271us/step - loss: 0.0053 - acc: 0.9987 - val_loss: 0.1635 - val_acc: 0.9746\n",
      "Epoch 41/50\n",
      "31500/31500 [==============================] - 8s 264us/step - loss: 0.0070 - acc: 0.9981 - val_loss: 0.1330 - val_acc: 0.9789\n",
      "Epoch 42/50\n",
      "31500/31500 [==============================] - 8s 264us/step - loss: 0.0019 - acc: 0.9995 - val_loss: 0.1489 - val_acc: 0.9791\n",
      "Epoch 43/50\n",
      "31500/31500 [==============================] - 9s 271us/step - loss: 0.0061 - acc: 0.9987 - val_loss: 0.1407 - val_acc: 0.9771\n",
      "Epoch 44/50\n",
      "31500/31500 [==============================] - 8s 258us/step - loss: 0.0045 - acc: 0.9987 - val_loss: 0.1539 - val_acc: 0.9774\n",
      "Epoch 45/50\n",
      "31500/31500 [==============================] - 8s 256us/step - loss: 0.0063 - acc: 0.9983 - val_loss: 0.1754 - val_acc: 0.9748\n",
      "Epoch 46/50\n",
      "31500/31500 [==============================] - 8s 250us/step - loss: 0.0119 - acc: 0.9971 - val_loss: 0.1311 - val_acc: 0.9773\n",
      "Epoch 47/50\n",
      "31500/31500 [==============================] - 8s 248us/step - loss: 0.0018 - acc: 0.9996 - val_loss: 0.1327 - val_acc: 0.9793\n",
      "Epoch 48/50\n",
      "31500/31500 [==============================] - 8s 267us/step - loss: 8.0968e-05 - acc: 1.0000 - val_loss: 0.1301 - val_acc: 0.9802\n",
      "Epoch 49/50\n",
      "31500/31500 [==============================] - 9s 277us/step - loss: 2.2918e-05 - acc: 1.0000 - val_loss: 0.1318 - val_acc: 0.9802\n",
      "Epoch 50/50\n",
      "31500/31500 [==============================] - 9s 278us/step - loss: 1.5753e-05 - acc: 1.0000 - val_loss: 0.1332 - val_acc: 0.9803\n"
     ]
    },
    {
     "data": {
      "text/plain": [
       "<keras.callbacks.History at 0x121f657f0>"
      ]
     },
     "execution_count": 19,
     "metadata": {},
     "output_type": "execute_result"
    }
   ],
   "source": [
    "model = Sequential()\n",
    "model.add(Dense(X_train.shape[1], input_dim=X_train.shape[1], activation='relu'))\n",
    "model.add(Dense(512, activation='relu'))\n",
    "model.add(Dense(128, activation='relu'))\n",
    "model.add(Dense(y.shape[1], activation='softmax'))\n",
    "\n",
    "\n",
    "model.compile(loss='categorical_crossentropy', optimizer='adam', metrics=['accuracy'])\n",
    "\n",
    "model.fit(X_train, y_train, validation_data=(X_test, y_test), epochs=50, batch_size=100)"
   ]
  },
  {
   "cell_type": "code",
   "execution_count": 20,
   "metadata": {},
   "outputs": [
    {
     "name": "stdout",
     "output_type": "stream",
     "text": [
      "28000/28000 [==============================] - 1s 42us/step\n"
     ]
    }
   ],
   "source": [
    "test = pd.read_csv('test.csv')\n",
    "test = test.values/255.\n",
    "\n",
    "pred = model.predict_classes(test)"
   ]
  },
  {
   "cell_type": "code",
   "execution_count": 21,
   "metadata": {
    "collapsed": true
   },
   "outputs": [],
   "source": [
    "submission = pd.DataFrame()\n",
    "\n",
    "\n",
    "submission['ImageId'] = range(1,test.shape[0] + 1)\n",
    "\n",
    "submission['Label']= pred"
   ]
  },
  {
   "cell_type": "code",
   "execution_count": 22,
   "metadata": {
    "collapsed": true
   },
   "outputs": [],
   "source": [
    "submission.to_csv('submission3.csv', index=False)"
   ]
  },
  {
   "cell_type": "code",
   "execution_count": 23,
   "metadata": {
    "collapsed": true
   },
   "outputs": [],
   "source": [
    "# It is 98 %"
   ]
  },
  {
   "cell_type": "code",
   "execution_count": 27,
   "metadata": {},
   "outputs": [],
   "source": [
    "model = Sequential()\n",
    "model.add(Dense(X_train.shape[1], input_dim=X_train.shape[1], activation='relu'))\n",
    "model.add(Dense(512, activation='relu'))\n",
    "model.add(Dropout(0.5))\n",
    "model.add(Dense(128, activation='relu'))\n",
    "model.add(Dense(y.shape[1], activation='softmax'))\n",
    "\n",
    "\n",
    "model.compile(loss='categorical_crossentropy', optimizer='adam', metrics=['accuracy'])"
   ]
  },
  {
   "cell_type": "code",
   "execution_count": 29,
   "metadata": {},
   "outputs": [
    {
     "name": "stdout",
     "output_type": "stream",
     "text": [
      "Train on 31500 samples, validate on 10500 samples\n",
      "Epoch 1/40\n",
      "31500/31500 [==============================] - 11s 350us/step - loss: 0.0052 - acc: 0.9987 - val_loss: 0.1919 - val_acc: 0.9779\n",
      "Epoch 2/40\n",
      "31500/31500 [==============================] - 11s 336us/step - loss: 0.0064 - acc: 0.9982 - val_loss: 0.1799 - val_acc: 0.9774\n",
      "Epoch 3/40\n",
      "31500/31500 [==============================] - 11s 342us/step - loss: 0.0071 - acc: 0.9986 - val_loss: 0.1956 - val_acc: 0.9773\n",
      "Epoch 4/40\n",
      "31500/31500 [==============================] - 11s 346us/step - loss: 0.0040 - acc: 0.9989 - val_loss: 0.1828 - val_acc: 0.9790\n",
      "Epoch 5/40\n",
      "31500/31500 [==============================] - 11s 351us/step - loss: 0.0023 - acc: 0.9994 - val_loss: 0.1860 - val_acc: 0.9777\n",
      "Epoch 6/40\n",
      "31500/31500 [==============================] - 11s 353us/step - loss: 0.0029 - acc: 0.9992 - val_loss: 0.1958 - val_acc: 0.9774\n",
      "Epoch 7/40\n",
      "31500/31500 [==============================] - 11s 341us/step - loss: 0.0036 - acc: 0.9992 - val_loss: 0.1954 - val_acc: 0.9786\n",
      "Epoch 8/40\n",
      "31500/31500 [==============================] - 11s 342us/step - loss: 0.0055 - acc: 0.9991 - val_loss: 0.1995 - val_acc: 0.9774\n",
      "Epoch 9/40\n",
      "31500/31500 [==============================] - 11s 339us/step - loss: 0.0040 - acc: 0.9991 - val_loss: 0.1884 - val_acc: 0.9783\n",
      "Epoch 10/40\n",
      "31500/31500 [==============================] - 11s 345us/step - loss: 0.0033 - acc: 0.9993 - val_loss: 0.1962 - val_acc: 0.9783\n",
      "Epoch 11/40\n",
      "31500/31500 [==============================] - 11s 338us/step - loss: 0.0131 - acc: 0.9974 - val_loss: 0.1838 - val_acc: 0.9784\n",
      "Epoch 12/40\n",
      "31500/31500 [==============================] - 10s 324us/step - loss: 0.0082 - acc: 0.9983 - val_loss: 0.1943 - val_acc: 0.9766\n",
      "Epoch 13/40\n",
      "31500/31500 [==============================] - 10s 326us/step - loss: 0.0075 - acc: 0.9984 - val_loss: 0.1807 - val_acc: 0.9790\n",
      "Epoch 14/40\n",
      "31500/31500 [==============================] - 10s 326us/step - loss: 0.0037 - acc: 0.9991 - val_loss: 0.1854 - val_acc: 0.9789\n",
      "Epoch 15/40\n",
      "31500/31500 [==============================] - 11s 338us/step - loss: 0.0025 - acc: 0.9994 - val_loss: 0.1697 - val_acc: 0.9798\n",
      "Epoch 16/40\n",
      "31500/31500 [==============================] - 11s 337us/step - loss: 0.0035 - acc: 0.9993 - val_loss: 0.1607 - val_acc: 0.9806\n",
      "Epoch 17/40\n",
      "31500/31500 [==============================] - 10s 332us/step - loss: 0.0014 - acc: 0.9997 - val_loss: 0.1757 - val_acc: 0.9804\n",
      "Epoch 18/40\n",
      "31500/31500 [==============================] - 11s 356us/step - loss: 0.0017 - acc: 0.9997 - val_loss: 0.1779 - val_acc: 0.9798\n",
      "Epoch 19/40\n",
      "31500/31500 [==============================] - 11s 363us/step - loss: 0.0034 - acc: 0.9993 - val_loss: 0.1921 - val_acc: 0.9774\n",
      "Epoch 20/40\n",
      "31500/31500 [==============================] - 11s 356us/step - loss: 0.0044 - acc: 0.9990 - val_loss: 0.2026 - val_acc: 0.9771\n",
      "Epoch 21/40\n",
      "31500/31500 [==============================] - 11s 351us/step - loss: 0.0076 - acc: 0.9984 - val_loss: 0.2139 - val_acc: 0.9764\n",
      "Epoch 22/40\n",
      "31500/31500 [==============================] - 11s 348us/step - loss: 0.0113 - acc: 0.9977 - val_loss: 0.2028 - val_acc: 0.9753\n",
      "Epoch 23/40\n",
      "31500/31500 [==============================] - 11s 344us/step - loss: 0.0072 - acc: 0.9984 - val_loss: 0.1806 - val_acc: 0.9791\n",
      "Epoch 24/40\n",
      "31500/31500 [==============================] - 11s 353us/step - loss: 0.0017 - acc: 0.9996 - val_loss: 0.1792 - val_acc: 0.9809\n",
      "Epoch 25/40\n",
      "31500/31500 [==============================] - 12s 373us/step - loss: 0.0023 - acc: 0.9995 - val_loss: 0.1980 - val_acc: 0.9789\n",
      "Epoch 26/40\n",
      "31500/31500 [==============================] - 12s 366us/step - loss: 0.0037 - acc: 0.9993 - val_loss: 0.1826 - val_acc: 0.9799\n",
      "Epoch 27/40\n",
      "31500/31500 [==============================] - 11s 361us/step - loss: 0.0023 - acc: 0.9994 - val_loss: 0.1847 - val_acc: 0.9788\n",
      "Epoch 28/40\n",
      "31500/31500 [==============================] - 12s 369us/step - loss: 0.0023 - acc: 0.9995 - val_loss: 0.1757 - val_acc: 0.9809\n",
      "Epoch 29/40\n",
      "31500/31500 [==============================] - 12s 368us/step - loss: 0.0017 - acc: 0.9996 - val_loss: 0.1926 - val_acc: 0.9790\n",
      "Epoch 30/40\n",
      "31500/31500 [==============================] - 12s 371us/step - loss: 0.0050 - acc: 0.9990 - val_loss: 0.1949 - val_acc: 0.9795\n",
      "Epoch 31/40\n",
      "31500/31500 [==============================] - 11s 361us/step - loss: 0.0108 - acc: 0.9978 - val_loss: 0.2191 - val_acc: 0.9763\n",
      "Epoch 32/40\n",
      "31500/31500 [==============================] - 11s 363us/step - loss: 0.0055 - acc: 0.9987 - val_loss: 0.1905 - val_acc: 0.9786\n",
      "Epoch 33/40\n",
      "31500/31500 [==============================] - 11s 362us/step - loss: 0.0067 - acc: 0.9988 - val_loss: 0.1918 - val_acc: 0.9791\n",
      "Epoch 34/40\n",
      "31500/31500 [==============================] - 12s 369us/step - loss: 0.0063 - acc: 0.9988 - val_loss: 0.1720 - val_acc: 0.9806\n",
      "Epoch 35/40\n",
      "31500/31500 [==============================] - 11s 364us/step - loss: 0.0051 - acc: 0.9988 - val_loss: 0.1974 - val_acc: 0.9773\n",
      "Epoch 36/40\n",
      "31500/31500 [==============================] - 11s 364us/step - loss: 6.5424e-04 - acc: 0.9997 - val_loss: 0.1754 - val_acc: 0.9803\n",
      "Epoch 37/40\n",
      "31500/31500 [==============================] - 12s 375us/step - loss: 6.7487e-04 - acc: 0.9997 - val_loss: 0.1906 - val_acc: 0.9798\n",
      "Epoch 38/40\n",
      "31500/31500 [==============================] - 12s 386us/step - loss: 3.5609e-04 - acc: 0.9999 - val_loss: 0.1744 - val_acc: 0.9810\n",
      "Epoch 39/40\n",
      "31500/31500 [==============================] - 12s 394us/step - loss: 0.0034 - acc: 0.9991 - val_loss: 0.2162 - val_acc: 0.9770\n",
      "Epoch 40/40\n",
      "31500/31500 [==============================] - 12s 380us/step - loss: 0.0053 - acc: 0.9989 - val_loss: 0.2147 - val_acc: 0.9770\n"
     ]
    },
    {
     "data": {
      "text/plain": [
       "<keras.callbacks.History at 0x121635240>"
      ]
     },
     "execution_count": 29,
     "metadata": {},
     "output_type": "execute_result"
    }
   ],
   "source": [
    "model.fit(X_train, y_train, validation_data=(X_test, y_test), epochs=40, batch_size=100)\n"
   ]
  },
  {
   "cell_type": "code",
   "execution_count": 30,
   "metadata": {},
   "outputs": [
    {
     "name": "stdout",
     "output_type": "stream",
     "text": [
      "28000/28000 [==============================] - 2s 60us/step\n"
     ]
    }
   ],
   "source": [
    "test = pd.read_csv('test.csv')\n",
    "test = test.values/255.\n",
    "\n",
    "pred = model.predict_classes(test)\n",
    "\n",
    "submission = pd.DataFrame()\n",
    "\n",
    "\n",
    "submission['ImageId'] = range(1,test.shape[0] + 1)\n",
    "\n",
    "submission['Label']= pred"
   ]
  },
  {
   "cell_type": "code",
   "execution_count": 31,
   "metadata": {
    "collapsed": true
   },
   "outputs": [],
   "source": [
    "submission.to_csv('submission4.csv', index=False)"
   ]
  },
  {
   "cell_type": "code",
   "execution_count": 32,
   "metadata": {
    "collapsed": true
   },
   "outputs": [],
   "source": [
    "## Score is  0.97628"
   ]
  },
  {
   "cell_type": "code",
   "execution_count": 33,
   "metadata": {
    "collapsed": true
   },
   "outputs": [],
   "source": [
    "model = Sequential()\n",
    "model.add(Dense(X_train.shape[1], input_dim=X_train.shape[1], activation='relu'))\n",
    "model.add(Dropout(0.5))\n",
    "model.add(Dense(300, activation='relu'))\n",
    "model.add(Dense(100, activation='relu'))\n",
    "model.add(Dense(y.shape[1], activation='softmax'))\n",
    "\n",
    "\n",
    "model.compile(loss='categorical_crossentropy', optimizer='adam', metrics=['accuracy'])"
   ]
  },
  {
   "cell_type": "code",
   "execution_count": 34,
   "metadata": {},
   "outputs": [
    {
     "name": "stdout",
     "output_type": "stream",
     "text": [
      "Train on 31500 samples, validate on 10500 samples\n",
      "Epoch 1/30\n",
      "31500/31500 [==============================] - 4s 137us/step - loss: 0.3558 - acc: 0.8911 - val_loss: 0.1535 - val_acc: 0.9511\n",
      "Epoch 2/30\n",
      "31500/31500 [==============================] - 4s 134us/step - loss: 0.1625 - acc: 0.9494 - val_loss: 0.1326 - val_acc: 0.9565\n",
      "Epoch 3/30\n",
      "31500/31500 [==============================] - 5s 153us/step - loss: 0.1242 - acc: 0.9610 - val_loss: 0.1149 - val_acc: 0.9643\n",
      "Epoch 4/30\n",
      "31500/31500 [==============================] - 5s 159us/step - loss: 0.1016 - acc: 0.9685 - val_loss: 0.0995 - val_acc: 0.9710\n",
      "Epoch 5/30\n",
      "31500/31500 [==============================] - 5s 164us/step - loss: 0.0911 - acc: 0.9718 - val_loss: 0.0913 - val_acc: 0.9718\n",
      "Epoch 6/30\n",
      "31500/31500 [==============================] - 5s 167us/step - loss: 0.0804 - acc: 0.9743 - val_loss: 0.0897 - val_acc: 0.9747\n",
      "Epoch 7/30\n",
      "31500/31500 [==============================] - 5s 172us/step - loss: 0.0732 - acc: 0.9762 - val_loss: 0.0914 - val_acc: 0.9736\n",
      "Epoch 8/30\n",
      "31500/31500 [==============================] - 6s 177us/step - loss: 0.0634 - acc: 0.9793 - val_loss: 0.0821 - val_acc: 0.9754\n",
      "Epoch 9/30\n",
      "31500/31500 [==============================] - 6s 178us/step - loss: 0.0592 - acc: 0.9807 - val_loss: 0.0965 - val_acc: 0.9733\n",
      "Epoch 10/30\n",
      "31500/31500 [==============================] - 6s 183us/step - loss: 0.0543 - acc: 0.9821 - val_loss: 0.0895 - val_acc: 0.9755\n",
      "Epoch 11/30\n",
      "31500/31500 [==============================] - 6s 181us/step - loss: 0.0507 - acc: 0.9836 - val_loss: 0.0887 - val_acc: 0.9767\n",
      "Epoch 12/30\n",
      "31500/31500 [==============================] - 6s 184us/step - loss: 0.0477 - acc: 0.9843 - val_loss: 0.0937 - val_acc: 0.9746\n",
      "Epoch 13/30\n",
      "31500/31500 [==============================] - 6s 188us/step - loss: 0.0449 - acc: 0.9847 - val_loss: 0.1002 - val_acc: 0.9753\n",
      "Epoch 14/30\n",
      "31500/31500 [==============================] - 6s 194us/step - loss: 0.0442 - acc: 0.9854 - val_loss: 0.0988 - val_acc: 0.9750\n",
      "Epoch 15/30\n",
      "31500/31500 [==============================] - 6s 191us/step - loss: 0.0421 - acc: 0.9864 - val_loss: 0.0850 - val_acc: 0.9764\n",
      "Epoch 16/30\n",
      "31500/31500 [==============================] - 6s 190us/step - loss: 0.0411 - acc: 0.9866 - val_loss: 0.0907 - val_acc: 0.9763\n",
      "Epoch 17/30\n",
      "31500/31500 [==============================] - 6s 191us/step - loss: 0.0355 - acc: 0.9888 - val_loss: 0.0956 - val_acc: 0.9775\n",
      "Epoch 18/30\n",
      "31500/31500 [==============================] - 6s 196us/step - loss: 0.0373 - acc: 0.9874 - val_loss: 0.0890 - val_acc: 0.9779\n",
      "Epoch 19/30\n",
      "31500/31500 [==============================] - 6s 195us/step - loss: 0.0357 - acc: 0.9889 - val_loss: 0.0953 - val_acc: 0.9775\n",
      "Epoch 20/30\n",
      "31500/31500 [==============================] - 6s 192us/step - loss: 0.0340 - acc: 0.9886 - val_loss: 0.0934 - val_acc: 0.9763\n",
      "Epoch 21/30\n",
      "31500/31500 [==============================] - 6s 195us/step - loss: 0.0327 - acc: 0.9891 - val_loss: 0.1059 - val_acc: 0.9738\n",
      "Epoch 22/30\n",
      "31500/31500 [==============================] - 6s 197us/step - loss: 0.0346 - acc: 0.9891 - val_loss: 0.1032 - val_acc: 0.9758\n",
      "Epoch 23/30\n",
      "31500/31500 [==============================] - 6s 196us/step - loss: 0.0303 - acc: 0.9906 - val_loss: 0.0942 - val_acc: 0.9774\n",
      "Epoch 24/30\n",
      "31500/31500 [==============================] - 6s 196us/step - loss: 0.0264 - acc: 0.9912 - val_loss: 0.0968 - val_acc: 0.9773\n",
      "Epoch 25/30\n",
      "31500/31500 [==============================] - 6s 197us/step - loss: 0.0270 - acc: 0.9908 - val_loss: 0.0948 - val_acc: 0.9760\n",
      "Epoch 26/30\n",
      "31500/31500 [==============================] - 6s 197us/step - loss: 0.0307 - acc: 0.9905 - val_loss: 0.0904 - val_acc: 0.9771\n",
      "Epoch 27/30\n",
      "31500/31500 [==============================] - 6s 197us/step - loss: 0.0254 - acc: 0.9918 - val_loss: 0.0929 - val_acc: 0.9804\n",
      "Epoch 28/30\n",
      "31500/31500 [==============================] - 6s 197us/step - loss: 0.0270 - acc: 0.9917 - val_loss: 0.0967 - val_acc: 0.9790\n",
      "Epoch 29/30\n",
      "31500/31500 [==============================] - 6s 197us/step - loss: 0.0238 - acc: 0.9926 - val_loss: 0.0918 - val_acc: 0.9802\n",
      "Epoch 30/30\n",
      "31500/31500 [==============================] - 6s 196us/step - loss: 0.0260 - acc: 0.9917 - val_loss: 0.0976 - val_acc: 0.9785\n"
     ]
    },
    {
     "data": {
      "text/plain": [
       "<keras.callbacks.History at 0x154cea278>"
      ]
     },
     "execution_count": 34,
     "metadata": {},
     "output_type": "execute_result"
    }
   ],
   "source": [
    "model.fit(X_train, y_train, validation_data=(X_test, y_test), epochs=30, batch_size=100)\n"
   ]
  },
  {
   "cell_type": "code",
   "execution_count": 35,
   "metadata": {},
   "outputs": [
    {
     "name": "stdout",
     "output_type": "stream",
     "text": [
      "28000/28000 [==============================] - 2s 56us/step\n"
     ]
    }
   ],
   "source": [
    "test = pd.read_csv('test.csv')\n",
    "test = test.values/255.\n",
    "\n",
    "pred = model.predict_classes(test)\n",
    "\n",
    "submission = pd.DataFrame()\n",
    "\n",
    "\n",
    "submission['ImageId'] = range(1,test.shape[0] + 1)\n",
    "\n",
    "submission['Label']= pred"
   ]
  },
  {
   "cell_type": "code",
   "execution_count": 36,
   "metadata": {
    "collapsed": true
   },
   "outputs": [],
   "source": [
    "submission.to_csv('submission5.csv', index=False)"
   ]
  },
  {
   "cell_type": "code",
   "execution_count": null,
   "metadata": {
    "collapsed": true
   },
   "outputs": [],
   "source": [
    "# Last score is 0.97885"
   ]
  }
 ],
 "metadata": {
  "kernelspec": {
   "display_name": "Python 3",
   "language": "python",
   "name": "python3"
  },
  "language_info": {
   "codemirror_mode": {
    "name": "ipython",
    "version": 3
   },
   "file_extension": ".py",
   "mimetype": "text/x-python",
   "name": "python",
   "nbconvert_exporter": "python",
   "pygments_lexer": "ipython3",
   "version": "3.6.1"
  }
 },
 "nbformat": 4,
 "nbformat_minor": 2
}
